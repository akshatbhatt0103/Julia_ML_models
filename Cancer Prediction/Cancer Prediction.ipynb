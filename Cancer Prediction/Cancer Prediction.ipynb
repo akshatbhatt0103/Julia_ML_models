{
 "cells": [
  {
   "cell_type": "markdown",
   "metadata": {},
   "source": [
    "# Using Julia to make Cancer Prediction Machine Learning model "
   ]
  },
  {
   "cell_type": "code",
   "execution_count": 1,
   "metadata": {},
   "outputs": [
    {
     "data": {
      "text/plain": [
       "1000"
      ]
     },
     "execution_count": 1,
     "metadata": {},
     "output_type": "execute_result"
    }
   ],
   "source": [
    "#Adding Packages\n",
    "using DataFrames\n",
    "using CSV\n",
    "using Plots\n",
    "using GLM\n",
    "using StatsBase\n",
    "using Lathe\n",
    "using MLBase\n",
    "using ClassImbalance\n",
    "using ROCAnalysis\n",
    "\n",
    "ENV[\"COLUMNS\"] = 1000"
   ]
  },
  {
   "cell_type": "markdown",
   "metadata": {},
   "source": [
    "# Loading Data into Notebook"
   ]
  },
  {
   "cell_type": "code",
   "execution_count": 2,
   "metadata": {},
   "outputs": [
    {
     "name": "stderr",
     "output_type": "stream",
     "text": [
      "┌ Warning: thread = 1 warning: only found 32 / 33 columns around data row: 2. Filling remaining columns with `missing`\n",
      "└ @ CSV C:\\Users\\aksha\\.julia\\packages\\CSV\\CJfFO\\src\\file.jl:605\n",
      "┌ Warning: thread = 1 warning: only found 32 / 33 columns around data row: 3. Filling remaining columns with `missing`\n",
      "└ @ CSV C:\\Users\\aksha\\.julia\\packages\\CSV\\CJfFO\\src\\file.jl:605\n",
      "┌ Warning: thread = 1 warning: only found 32 / 33 columns around data row: 4. Filling remaining columns with `missing`\n",
      "└ @ CSV C:\\Users\\aksha\\.julia\\packages\\CSV\\CJfFO\\src\\file.jl:605\n",
      "┌ Warning: thread = 1 warning: only found 32 / 33 columns around data row: 5. Filling remaining columns with `missing`\n",
      "└ @ CSV C:\\Users\\aksha\\.julia\\packages\\CSV\\CJfFO\\src\\file.jl:605\n",
      "┌ Warning: thread = 1 warning: only found 32 / 33 columns around data row: 6. Filling remaining columns with `missing`\n",
      "└ @ CSV C:\\Users\\aksha\\.julia\\packages\\CSV\\CJfFO\\src\\file.jl:605\n",
      "┌ Warning: thread = 1 warning: only found 32 / 33 columns around data row: 7. Filling remaining columns with `missing`\n",
      "└ @ CSV C:\\Users\\aksha\\.julia\\packages\\CSV\\CJfFO\\src\\file.jl:605\n",
      "┌ Warning: thread = 1 warning: only found 32 / 33 columns around data row: 8. Filling remaining columns with `missing`\n",
      "└ @ CSV C:\\Users\\aksha\\.julia\\packages\\CSV\\CJfFO\\src\\file.jl:605\n",
      "┌ Warning: thread = 1 warning: only found 32 / 33 columns around data row: 9. Filling remaining columns with `missing`\n",
      "└ @ CSV C:\\Users\\aksha\\.julia\\packages\\CSV\\CJfFO\\src\\file.jl:605\n",
      "┌ Warning: thread = 1 warning: only found 32 / 33 columns around data row: 10. Filling remaining columns with `missing`\n",
      "└ @ CSV C:\\Users\\aksha\\.julia\\packages\\CSV\\CJfFO\\src\\file.jl:605\n",
      "┌ Warning: thread = 1 warning: only found 32 / 33 columns around data row: 11. Filling remaining columns with `missing`\n",
      "└ @ CSV C:\\Users\\aksha\\.julia\\packages\\CSV\\CJfFO\\src\\file.jl:605\n",
      "┌ Warning: thread = 1 warning: only found 32 / 33 columns around data row: 12. Filling remaining columns with `missing`\n",
      "└ @ CSV C:\\Users\\aksha\\.julia\\packages\\CSV\\CJfFO\\src\\file.jl:605\n",
      "┌ Warning: thread = 1 warning: only found 32 / 33 columns around data row: 13. Filling remaining columns with `missing`\n",
      "└ @ CSV C:\\Users\\aksha\\.julia\\packages\\CSV\\CJfFO\\src\\file.jl:605\n",
      "┌ Warning: thread = 1 warning: only found 32 / 33 columns around data row: 14. Filling remaining columns with `missing`\n",
      "└ @ CSV C:\\Users\\aksha\\.julia\\packages\\CSV\\CJfFO\\src\\file.jl:605\n",
      "┌ Warning: thread = 1 warning: only found 32 / 33 columns around data row: 15. Filling remaining columns with `missing`\n",
      "└ @ CSV C:\\Users\\aksha\\.julia\\packages\\CSV\\CJfFO\\src\\file.jl:605\n",
      "┌ Warning: thread = 1 warning: only found 32 / 33 columns around data row: 16. Filling remaining columns with `missing`\n",
      "└ @ CSV C:\\Users\\aksha\\.julia\\packages\\CSV\\CJfFO\\src\\file.jl:605\n",
      "┌ Warning: thread = 1 warning: only found 32 / 33 columns around data row: 17. Filling remaining columns with `missing`\n",
      "└ @ CSV C:\\Users\\aksha\\.julia\\packages\\CSV\\CJfFO\\src\\file.jl:605\n",
      "┌ Warning: thread = 1 warning: only found 32 / 33 columns around data row: 18. Filling remaining columns with `missing`\n",
      "└ @ CSV C:\\Users\\aksha\\.julia\\packages\\CSV\\CJfFO\\src\\file.jl:605\n",
      "┌ Warning: thread = 1 warning: only found 32 / 33 columns around data row: 19. Filling remaining columns with `missing`\n",
      "└ @ CSV C:\\Users\\aksha\\.julia\\packages\\CSV\\CJfFO\\src\\file.jl:605\n",
      "┌ Warning: thread = 1 warning: only found 32 / 33 columns around data row: 20. Filling remaining columns with `missing`\n",
      "└ @ CSV C:\\Users\\aksha\\.julia\\packages\\CSV\\CJfFO\\src\\file.jl:605\n",
      "┌ Warning: thread = 1 warning: only found 32 / 33 columns around data row: 21. Filling remaining columns with `missing`\n",
      "└ @ CSV C:\\Users\\aksha\\.julia\\packages\\CSV\\CJfFO\\src\\file.jl:605\n",
      "┌ Warning: thread = 1 warning: only found 32 / 33 columns around data row: 22. Filling remaining columns with `missing`\n",
      "└ @ CSV C:\\Users\\aksha\\.julia\\packages\\CSV\\CJfFO\\src\\file.jl:605\n",
      "┌ Warning: thread = 1 warning: only found 32 / 33 columns around data row: 23. Filling remaining columns with `missing`\n",
      "└ @ CSV C:\\Users\\aksha\\.julia\\packages\\CSV\\CJfFO\\src\\file.jl:605\n",
      "┌ Warning: thread = 1 warning: only found 32 / 33 columns around data row: 24. Filling remaining columns with `missing`\n",
      "└ @ CSV C:\\Users\\aksha\\.julia\\packages\\CSV\\CJfFO\\src\\file.jl:605\n",
      "┌ Warning: thread = 1 warning: only found 32 / 33 columns around data row: 25. Filling remaining columns with `missing`\n",
      "└ @ CSV C:\\Users\\aksha\\.julia\\packages\\CSV\\CJfFO\\src\\file.jl:605\n",
      "┌ Warning: thread = 1 warning: only found 32 / 33 columns around data row: 26. Filling remaining columns with `missing`\n",
      "└ @ CSV C:\\Users\\aksha\\.julia\\packages\\CSV\\CJfFO\\src\\file.jl:605\n",
      "┌ Warning: thread = 1 warning: only found 32 / 33 columns around data row: 27. Filling remaining columns with `missing`\n",
      "└ @ CSV C:\\Users\\aksha\\.julia\\packages\\CSV\\CJfFO\\src\\file.jl:605\n",
      "┌ Warning: thread = 1 warning: only found 32 / 33 columns around data row: 28. Filling remaining columns with `missing`\n",
      "└ @ CSV C:\\Users\\aksha\\.julia\\packages\\CSV\\CJfFO\\src\\file.jl:605\n",
      "┌ Warning: thread = 1 warning: only found 32 / 33 columns around data row: 29. Filling remaining columns with `missing`\n",
      "└ @ CSV C:\\Users\\aksha\\.julia\\packages\\CSV\\CJfFO\\src\\file.jl:605\n",
      "┌ Warning: thread = 1 warning: only found 32 / 33 columns around data row: 30. Filling remaining columns with `missing`\n",
      "└ @ CSV C:\\Users\\aksha\\.julia\\packages\\CSV\\CJfFO\\src\\file.jl:605\n",
      "┌ Warning: thread = 1 warning: only found 32 / 33 columns around data row: 31. Filling remaining columns with `missing`\n",
      "└ @ CSV C:\\Users\\aksha\\.julia\\packages\\CSV\\CJfFO\\src\\file.jl:605\n",
      "┌ Warning: thread = 1 warning: only found 32 / 33 columns around data row: 32. Filling remaining columns with `missing`\n",
      "└ @ CSV C:\\Users\\aksha\\.julia\\packages\\CSV\\CJfFO\\src\\file.jl:605\n",
      "┌ Warning: thread = 1 warning: only found 32 / 33 columns around data row: 33. Filling remaining columns with `missing`\n",
      "└ @ CSV C:\\Users\\aksha\\.julia\\packages\\CSV\\CJfFO\\src\\file.jl:605\n",
      "┌ Warning: thread = 1 warning: only found 32 / 33 columns around data row: 34. Filling remaining columns with `missing`\n",
      "└ @ CSV C:\\Users\\aksha\\.julia\\packages\\CSV\\CJfFO\\src\\file.jl:605\n",
      "┌ Warning: thread = 1 warning: only found 32 / 33 columns around data row: 35. Filling remaining columns with `missing`\n",
      "└ @ CSV C:\\Users\\aksha\\.julia\\packages\\CSV\\CJfFO\\src\\file.jl:605\n",
      "┌ Warning: thread = 1 warning: only found 32 / 33 columns around data row: 36. Filling remaining columns with `missing`\n",
      "└ @ CSV C:\\Users\\aksha\\.julia\\packages\\CSV\\CJfFO\\src\\file.jl:605\n",
      "┌ Warning: thread = 1 warning: only found 32 / 33 columns around data row: 37. Filling remaining columns with `missing`\n",
      "└ @ CSV C:\\Users\\aksha\\.julia\\packages\\CSV\\CJfFO\\src\\file.jl:605\n",
      "┌ Warning: thread = 1 warning: only found 32 / 33 columns around data row: 38. Filling remaining columns with `missing`\n",
      "└ @ CSV C:\\Users\\aksha\\.julia\\packages\\CSV\\CJfFO\\src\\file.jl:605\n",
      "┌ Warning: thread = 1 warning: only found 32 / 33 columns around data row: 39. Filling remaining columns with `missing`\n",
      "└ @ CSV C:\\Users\\aksha\\.julia\\packages\\CSV\\CJfFO\\src\\file.jl:605\n",
      "┌ Warning: thread = 1 warning: only found 32 / 33 columns around data row: 40. Filling remaining columns with `missing`\n",
      "└ @ CSV C:\\Users\\aksha\\.julia\\packages\\CSV\\CJfFO\\src\\file.jl:605\n",
      "┌ Warning: thread = 1 warning: only found 32 / 33 columns around data row: 41. Filling remaining columns with `missing`\n",
      "└ @ CSV C:\\Users\\aksha\\.julia\\packages\\CSV\\CJfFO\\src\\file.jl:605\n",
      "┌ Warning: thread = 1 warning: only found 32 / 33 columns around data row: 42. Filling remaining columns with `missing`\n",
      "└ @ CSV C:\\Users\\aksha\\.julia\\packages\\CSV\\CJfFO\\src\\file.jl:605\n",
      "┌ Warning: thread = 1 warning: only found 32 / 33 columns around data row: 43. Filling remaining columns with `missing`\n",
      "└ @ CSV C:\\Users\\aksha\\.julia\\packages\\CSV\\CJfFO\\src\\file.jl:605\n",
      "┌ Warning: thread = 1 warning: only found 32 / 33 columns around data row: 44. Filling remaining columns with `missing`\n",
      "└ @ CSV C:\\Users\\aksha\\.julia\\packages\\CSV\\CJfFO\\src\\file.jl:605\n",
      "┌ Warning: thread = 1 warning: only found 32 / 33 columns around data row: 45. Filling remaining columns with `missing`\n",
      "└ @ CSV C:\\Users\\aksha\\.julia\\packages\\CSV\\CJfFO\\src\\file.jl:605\n",
      "┌ Warning: thread = 1 warning: only found 32 / 33 columns around data row: 46. Filling remaining columns with `missing`\n",
      "└ @ CSV C:\\Users\\aksha\\.julia\\packages\\CSV\\CJfFO\\src\\file.jl:605\n",
      "┌ Warning: thread = 1 warning: only found 32 / 33 columns around data row: 47. Filling remaining columns with `missing`\n",
      "└ @ CSV C:\\Users\\aksha\\.julia\\packages\\CSV\\CJfFO\\src\\file.jl:605\n",
      "┌ Warning: thread = 1 warning: only found 32 / 33 columns around data row: 48. Filling remaining columns with `missing`\n",
      "└ @ CSV C:\\Users\\aksha\\.julia\\packages\\CSV\\CJfFO\\src\\file.jl:605\n",
      "┌ Warning: thread = 1 warning: only found 32 / 33 columns around data row: 49. Filling remaining columns with `missing`\n",
      "└ @ CSV C:\\Users\\aksha\\.julia\\packages\\CSV\\CJfFO\\src\\file.jl:605\n",
      "┌ Warning: thread = 1 warning: only found 32 / 33 columns around data row: 50. Filling remaining columns with `missing`\n",
      "└ @ CSV C:\\Users\\aksha\\.julia\\packages\\CSV\\CJfFO\\src\\file.jl:605\n",
      "┌ Warning: thread = 1 warning: only found 32 / 33 columns around data row: 51. Filling remaining columns with `missing`\n",
      "└ @ CSV C:\\Users\\aksha\\.julia\\packages\\CSV\\CJfFO\\src\\file.jl:605\n",
      "┌ Warning: thread = 1 warning: only found 32 / 33 columns around data row: 52. Filling remaining columns with `missing`\n",
      "└ @ CSV C:\\Users\\aksha\\.julia\\packages\\CSV\\CJfFO\\src\\file.jl:605\n",
      "┌ Warning: thread = 1 warning: only found 32 / 33 columns around data row: 53. Filling remaining columns with `missing`\n",
      "└ @ CSV C:\\Users\\aksha\\.julia\\packages\\CSV\\CJfFO\\src\\file.jl:605\n",
      "┌ Warning: thread = 1 warning: only found 32 / 33 columns around data row: 54. Filling remaining columns with `missing`\n",
      "└ @ CSV C:\\Users\\aksha\\.julia\\packages\\CSV\\CJfFO\\src\\file.jl:605\n",
      "┌ Warning: thread = 1 warning: only found 32 / 33 columns around data row: 55. Filling remaining columns with `missing`\n",
      "└ @ CSV C:\\Users\\aksha\\.julia\\packages\\CSV\\CJfFO\\src\\file.jl:605\n",
      "┌ Warning: thread = 1 warning: only found 32 / 33 columns around data row: 56. Filling remaining columns with `missing`\n",
      "└ @ CSV C:\\Users\\aksha\\.julia\\packages\\CSV\\CJfFO\\src\\file.jl:605\n"
     ]
    },
    {
     "name": "stderr",
     "output_type": "stream",
     "text": [
      "┌ Warning: thread = 1 warning: only found 32 / 33 columns around data row: 57. Filling remaining columns with `missing`\n",
      "└ @ CSV C:\\Users\\aksha\\.julia\\packages\\CSV\\CJfFO\\src\\file.jl:605\n",
      "┌ Warning: thread = 1 warning: only found 32 / 33 columns around data row: 58. Filling remaining columns with `missing`\n",
      "└ @ CSV C:\\Users\\aksha\\.julia\\packages\\CSV\\CJfFO\\src\\file.jl:605\n",
      "┌ Warning: thread = 1 warning: only found 32 / 33 columns around data row: 59. Filling remaining columns with `missing`\n",
      "└ @ CSV C:\\Users\\aksha\\.julia\\packages\\CSV\\CJfFO\\src\\file.jl:605\n",
      "┌ Warning: thread = 1 warning: only found 32 / 33 columns around data row: 60. Filling remaining columns with `missing`\n",
      "└ @ CSV C:\\Users\\aksha\\.julia\\packages\\CSV\\CJfFO\\src\\file.jl:605\n",
      "┌ Warning: thread = 1 warning: only found 32 / 33 columns around data row: 61. Filling remaining columns with `missing`\n",
      "└ @ CSV C:\\Users\\aksha\\.julia\\packages\\CSV\\CJfFO\\src\\file.jl:605\n",
      "┌ Warning: thread = 1 warning: only found 32 / 33 columns around data row: 62. Filling remaining columns with `missing`\n",
      "└ @ CSV C:\\Users\\aksha\\.julia\\packages\\CSV\\CJfFO\\src\\file.jl:605\n",
      "┌ Warning: thread = 1 warning: only found 32 / 33 columns around data row: 63. Filling remaining columns with `missing`\n",
      "└ @ CSV C:\\Users\\aksha\\.julia\\packages\\CSV\\CJfFO\\src\\file.jl:605\n",
      "┌ Warning: thread = 1 warning: only found 32 / 33 columns around data row: 64. Filling remaining columns with `missing`\n",
      "└ @ CSV C:\\Users\\aksha\\.julia\\packages\\CSV\\CJfFO\\src\\file.jl:605\n",
      "┌ Warning: thread = 1 warning: only found 32 / 33 columns around data row: 65. Filling remaining columns with `missing`\n",
      "└ @ CSV C:\\Users\\aksha\\.julia\\packages\\CSV\\CJfFO\\src\\file.jl:605\n",
      "┌ Warning: thread = 1 warning: only found 32 / 33 columns around data row: 66. Filling remaining columns with `missing`\n",
      "└ @ CSV C:\\Users\\aksha\\.julia\\packages\\CSV\\CJfFO\\src\\file.jl:605\n",
      "┌ Warning: thread = 1 warning: only found 32 / 33 columns around data row: 67. Filling remaining columns with `missing`\n",
      "└ @ CSV C:\\Users\\aksha\\.julia\\packages\\CSV\\CJfFO\\src\\file.jl:605\n",
      "┌ Warning: thread = 1 warning: only found 32 / 33 columns around data row: 68. Filling remaining columns with `missing`\n",
      "└ @ CSV C:\\Users\\aksha\\.julia\\packages\\CSV\\CJfFO\\src\\file.jl:605\n",
      "┌ Warning: thread = 1 warning: only found 32 / 33 columns around data row: 69. Filling remaining columns with `missing`\n",
      "└ @ CSV C:\\Users\\aksha\\.julia\\packages\\CSV\\CJfFO\\src\\file.jl:605\n",
      "┌ Warning: thread = 1 warning: only found 32 / 33 columns around data row: 70. Filling remaining columns with `missing`\n",
      "└ @ CSV C:\\Users\\aksha\\.julia\\packages\\CSV\\CJfFO\\src\\file.jl:605\n",
      "┌ Warning: thread = 1 warning: only found 32 / 33 columns around data row: 71. Filling remaining columns with `missing`\n",
      "└ @ CSV C:\\Users\\aksha\\.julia\\packages\\CSV\\CJfFO\\src\\file.jl:605\n",
      "┌ Warning: thread = 1 warning: only found 32 / 33 columns around data row: 72. Filling remaining columns with `missing`\n",
      "└ @ CSV C:\\Users\\aksha\\.julia\\packages\\CSV\\CJfFO\\src\\file.jl:605\n",
      "┌ Warning: thread = 1 warning: only found 32 / 33 columns around data row: 73. Filling remaining columns with `missing`\n",
      "└ @ CSV C:\\Users\\aksha\\.julia\\packages\\CSV\\CJfFO\\src\\file.jl:605\n",
      "┌ Warning: thread = 1 warning: only found 32 / 33 columns around data row: 74. Filling remaining columns with `missing`\n",
      "└ @ CSV C:\\Users\\aksha\\.julia\\packages\\CSV\\CJfFO\\src\\file.jl:605\n",
      "┌ Warning: thread = 1 warning: only found 32 / 33 columns around data row: 75. Filling remaining columns with `missing`\n",
      "└ @ CSV C:\\Users\\aksha\\.julia\\packages\\CSV\\CJfFO\\src\\file.jl:605\n",
      "┌ Warning: thread = 1 warning: only found 32 / 33 columns around data row: 76. Filling remaining columns with `missing`\n",
      "└ @ CSV C:\\Users\\aksha\\.julia\\packages\\CSV\\CJfFO\\src\\file.jl:605\n",
      "┌ Warning: thread = 1 warning: only found 32 / 33 columns around data row: 77. Filling remaining columns with `missing`\n",
      "└ @ CSV C:\\Users\\aksha\\.julia\\packages\\CSV\\CJfFO\\src\\file.jl:605\n",
      "┌ Warning: thread = 1 warning: only found 32 / 33 columns around data row: 78. Filling remaining columns with `missing`\n",
      "└ @ CSV C:\\Users\\aksha\\.julia\\packages\\CSV\\CJfFO\\src\\file.jl:605\n",
      "┌ Warning: thread = 1 warning: only found 32 / 33 columns around data row: 79. Filling remaining columns with `missing`\n",
      "└ @ CSV C:\\Users\\aksha\\.julia\\packages\\CSV\\CJfFO\\src\\file.jl:605\n",
      "┌ Warning: thread = 1 warning: only found 32 / 33 columns around data row: 80. Filling remaining columns with `missing`\n",
      "└ @ CSV C:\\Users\\aksha\\.julia\\packages\\CSV\\CJfFO\\src\\file.jl:605\n",
      "┌ Warning: thread = 1 warning: only found 32 / 33 columns around data row: 81. Filling remaining columns with `missing`\n",
      "└ @ CSV C:\\Users\\aksha\\.julia\\packages\\CSV\\CJfFO\\src\\file.jl:605\n",
      "┌ Warning: thread = 1 warning: only found 32 / 33 columns around data row: 82. Filling remaining columns with `missing`\n",
      "└ @ CSV C:\\Users\\aksha\\.julia\\packages\\CSV\\CJfFO\\src\\file.jl:605\n",
      "┌ Warning: thread = 1 warning: only found 32 / 33 columns around data row: 83. Filling remaining columns with `missing`\n",
      "└ @ CSV C:\\Users\\aksha\\.julia\\packages\\CSV\\CJfFO\\src\\file.jl:605\n",
      "┌ Warning: thread = 1 warning: only found 32 / 33 columns around data row: 84. Filling remaining columns with `missing`\n",
      "└ @ CSV C:\\Users\\aksha\\.julia\\packages\\CSV\\CJfFO\\src\\file.jl:605\n",
      "┌ Warning: thread = 1 warning: only found 32 / 33 columns around data row: 85. Filling remaining columns with `missing`\n",
      "└ @ CSV C:\\Users\\aksha\\.julia\\packages\\CSV\\CJfFO\\src\\file.jl:605\n",
      "┌ Warning: thread = 1 warning: only found 32 / 33 columns around data row: 86. Filling remaining columns with `missing`\n",
      "└ @ CSV C:\\Users\\aksha\\.julia\\packages\\CSV\\CJfFO\\src\\file.jl:605\n",
      "┌ Warning: thread = 1 warning: only found 32 / 33 columns around data row: 87. Filling remaining columns with `missing`\n",
      "└ @ CSV C:\\Users\\aksha\\.julia\\packages\\CSV\\CJfFO\\src\\file.jl:605\n",
      "┌ Warning: thread = 1 warning: only found 32 / 33 columns around data row: 88. Filling remaining columns with `missing`\n",
      "└ @ CSV C:\\Users\\aksha\\.julia\\packages\\CSV\\CJfFO\\src\\file.jl:605\n",
      "┌ Warning: thread = 1 warning: only found 32 / 33 columns around data row: 89. Filling remaining columns with `missing`\n",
      "└ @ CSV C:\\Users\\aksha\\.julia\\packages\\CSV\\CJfFO\\src\\file.jl:605\n",
      "┌ Warning: thread = 1 warning: only found 32 / 33 columns around data row: 90. Filling remaining columns with `missing`\n",
      "└ @ CSV C:\\Users\\aksha\\.julia\\packages\\CSV\\CJfFO\\src\\file.jl:605\n",
      "┌ Warning: thread = 1 warning: only found 32 / 33 columns around data row: 91. Filling remaining columns with `missing`\n",
      "└ @ CSV C:\\Users\\aksha\\.julia\\packages\\CSV\\CJfFO\\src\\file.jl:605\n",
      "┌ Warning: thread = 1 warning: only found 32 / 33 columns around data row: 92. Filling remaining columns with `missing`\n",
      "└ @ CSV C:\\Users\\aksha\\.julia\\packages\\CSV\\CJfFO\\src\\file.jl:605\n",
      "┌ Warning: thread = 1 warning: only found 32 / 33 columns around data row: 93. Filling remaining columns with `missing`\n",
      "└ @ CSV C:\\Users\\aksha\\.julia\\packages\\CSV\\CJfFO\\src\\file.jl:605\n",
      "┌ Warning: thread = 1 warning: only found 32 / 33 columns around data row: 94. Filling remaining columns with `missing`\n",
      "└ @ CSV C:\\Users\\aksha\\.julia\\packages\\CSV\\CJfFO\\src\\file.jl:605\n",
      "┌ Warning: thread = 1 warning: only found 32 / 33 columns around data row: 95. Filling remaining columns with `missing`\n",
      "└ @ CSV C:\\Users\\aksha\\.julia\\packages\\CSV\\CJfFO\\src\\file.jl:605\n",
      "┌ Warning: thread = 1 warning: only found 32 / 33 columns around data row: 96. Filling remaining columns with `missing`\n",
      "└ @ CSV C:\\Users\\aksha\\.julia\\packages\\CSV\\CJfFO\\src\\file.jl:605\n",
      "┌ Warning: thread = 1 warning: only found 32 / 33 columns around data row: 97. Filling remaining columns with `missing`\n",
      "└ @ CSV C:\\Users\\aksha\\.julia\\packages\\CSV\\CJfFO\\src\\file.jl:605\n",
      "┌ Warning: thread = 1 warning: only found 32 / 33 columns around data row: 98. Filling remaining columns with `missing`\n",
      "└ @ CSV C:\\Users\\aksha\\.julia\\packages\\CSV\\CJfFO\\src\\file.jl:605\n",
      "┌ Warning: thread = 1 warning: only found 32 / 33 columns around data row: 99. Filling remaining columns with `missing`\n",
      "└ @ CSV C:\\Users\\aksha\\.julia\\packages\\CSV\\CJfFO\\src\\file.jl:605\n",
      "┌ Warning: thread = 1 warning: only found 32 / 33 columns around data row: 100. Filling remaining columns with `missing`\n",
      "└ @ CSV C:\\Users\\aksha\\.julia\\packages\\CSV\\CJfFO\\src\\file.jl:605\n",
      "┌ Warning: thread = 1 warning: only found 32 / 33 columns around data row: 101. Filling remaining columns with `missing`\n",
      "└ @ CSV C:\\Users\\aksha\\.julia\\packages\\CSV\\CJfFO\\src\\file.jl:605\n",
      "┌ Warning: thread = 1 warning: only found 32 / 33 columns around data row: 102. Filling remaining columns with `missing`\n",
      "└ @ CSV C:\\Users\\aksha\\.julia\\packages\\CSV\\CJfFO\\src\\file.jl:605\n"
     ]
    },
    {
     "name": "stderr",
     "output_type": "stream",
     "text": [
      "┌ Warning: thread = 1: too many warnings, silencing any further warnings\n",
      "└ @ CSV C:\\Users\\aksha\\.julia\\packages\\CSV\\CJfFO\\src\\file.jl:610\n"
     ]
    },
    {
     "data": {
      "text/html": [
       "<table class=\"data-frame\"><thead><tr><th></th><th>id</th><th>diagnosis</th><th>radius_mean</th><th>texture_mean</th><th>perimeter_mean</th><th>area_mean</th><th>smoothness_mean</th><th>compactness_mean</th><th>concavity_mean</th><th>concave points_mean</th><th>symmetry_mean</th><th>fractal_dimension_mean</th><th>radius_se</th><th>texture_se</th><th>perimeter_se</th><th>area_se</th><th>smoothness_se</th><th>compactness_se</th><th>concavity_se</th><th>concave points_se</th><th>symmetry_se</th><th>fractal_dimension_se</th><th>radius_worst</th><th>texture_worst</th><th>perimeter_worst</th><th>area_worst</th><th>smoothness_worst</th><th>compactness_worst</th><th>concavity_worst</th><th>concave points_worst</th><th>symmetry_worst</th><th>fractal_dimension_worst</th><th>Column33</th></tr><tr><th></th><th>Int64</th><th>String</th><th>Float64</th><th>Float64</th><th>Float64</th><th>Float64</th><th>Float64</th><th>Float64</th><th>Float64</th><th>Float64</th><th>Float64</th><th>Float64</th><th>Float64</th><th>Float64</th><th>Float64</th><th>Float64</th><th>Float64</th><th>Float64</th><th>Float64</th><th>Float64</th><th>Float64</th><th>Float64</th><th>Float64</th><th>Float64</th><th>Float64</th><th>Float64</th><th>Float64</th><th>Float64</th><th>Float64</th><th>Float64</th><th>Float64</th><th>Float64</th><th>Missing</th></tr></thead><tbody><p>569 rows × 33 columns</p><tr><th>1</th><td>842302</td><td>M</td><td>17.99</td><td>10.38</td><td>122.8</td><td>1001.0</td><td>0.1184</td><td>0.2776</td><td>0.3001</td><td>0.1471</td><td>0.2419</td><td>0.07871</td><td>1.095</td><td>0.9053</td><td>8.589</td><td>153.4</td><td>0.006399</td><td>0.04904</td><td>0.05373</td><td>0.01587</td><td>0.03003</td><td>0.006193</td><td>25.38</td><td>17.33</td><td>184.6</td><td>2019.0</td><td>0.1622</td><td>0.6656</td><td>0.7119</td><td>0.2654</td><td>0.4601</td><td>0.1189</td><td>missing</td></tr><tr><th>2</th><td>842517</td><td>M</td><td>20.57</td><td>17.77</td><td>132.9</td><td>1326.0</td><td>0.08474</td><td>0.07864</td><td>0.0869</td><td>0.07017</td><td>0.1812</td><td>0.05667</td><td>0.5435</td><td>0.7339</td><td>3.398</td><td>74.08</td><td>0.005225</td><td>0.01308</td><td>0.0186</td><td>0.0134</td><td>0.01389</td><td>0.003532</td><td>24.99</td><td>23.41</td><td>158.8</td><td>1956.0</td><td>0.1238</td><td>0.1866</td><td>0.2416</td><td>0.186</td><td>0.275</td><td>0.08902</td><td>missing</td></tr><tr><th>3</th><td>84300903</td><td>M</td><td>19.69</td><td>21.25</td><td>130.0</td><td>1203.0</td><td>0.1096</td><td>0.1599</td><td>0.1974</td><td>0.1279</td><td>0.2069</td><td>0.05999</td><td>0.7456</td><td>0.7869</td><td>4.585</td><td>94.03</td><td>0.00615</td><td>0.04006</td><td>0.03832</td><td>0.02058</td><td>0.0225</td><td>0.004571</td><td>23.57</td><td>25.53</td><td>152.5</td><td>1709.0</td><td>0.1444</td><td>0.4245</td><td>0.4504</td><td>0.243</td><td>0.3613</td><td>0.08758</td><td>missing</td></tr><tr><th>4</th><td>84348301</td><td>M</td><td>11.42</td><td>20.38</td><td>77.58</td><td>386.1</td><td>0.1425</td><td>0.2839</td><td>0.2414</td><td>0.1052</td><td>0.2597</td><td>0.09744</td><td>0.4956</td><td>1.156</td><td>3.445</td><td>27.23</td><td>0.00911</td><td>0.07458</td><td>0.05661</td><td>0.01867</td><td>0.05963</td><td>0.009208</td><td>14.91</td><td>26.5</td><td>98.87</td><td>567.7</td><td>0.2098</td><td>0.8663</td><td>0.6869</td><td>0.2575</td><td>0.6638</td><td>0.173</td><td>missing</td></tr><tr><th>5</th><td>84358402</td><td>M</td><td>20.29</td><td>14.34</td><td>135.1</td><td>1297.0</td><td>0.1003</td><td>0.1328</td><td>0.198</td><td>0.1043</td><td>0.1809</td><td>0.05883</td><td>0.7572</td><td>0.7813</td><td>5.438</td><td>94.44</td><td>0.01149</td><td>0.02461</td><td>0.05688</td><td>0.01885</td><td>0.01756</td><td>0.005115</td><td>22.54</td><td>16.67</td><td>152.2</td><td>1575.0</td><td>0.1374</td><td>0.205</td><td>0.4</td><td>0.1625</td><td>0.2364</td><td>0.07678</td><td>missing</td></tr><tr><th>6</th><td>843786</td><td>M</td><td>12.45</td><td>15.7</td><td>82.57</td><td>477.1</td><td>0.1278</td><td>0.17</td><td>0.1578</td><td>0.08089</td><td>0.2087</td><td>0.07613</td><td>0.3345</td><td>0.8902</td><td>2.217</td><td>27.19</td><td>0.00751</td><td>0.03345</td><td>0.03672</td><td>0.01137</td><td>0.02165</td><td>0.005082</td><td>15.47</td><td>23.75</td><td>103.4</td><td>741.6</td><td>0.1791</td><td>0.5249</td><td>0.5355</td><td>0.1741</td><td>0.3985</td><td>0.1244</td><td>missing</td></tr><tr><th>7</th><td>844359</td><td>M</td><td>18.25</td><td>19.98</td><td>119.6</td><td>1040.0</td><td>0.09463</td><td>0.109</td><td>0.1127</td><td>0.074</td><td>0.1794</td><td>0.05742</td><td>0.4467</td><td>0.7732</td><td>3.18</td><td>53.91</td><td>0.004314</td><td>0.01382</td><td>0.02254</td><td>0.01039</td><td>0.01369</td><td>0.002179</td><td>22.88</td><td>27.66</td><td>153.2</td><td>1606.0</td><td>0.1442</td><td>0.2576</td><td>0.3784</td><td>0.1932</td><td>0.3063</td><td>0.08368</td><td>missing</td></tr><tr><th>8</th><td>84458202</td><td>M</td><td>13.71</td><td>20.83</td><td>90.2</td><td>577.9</td><td>0.1189</td><td>0.1645</td><td>0.09366</td><td>0.05985</td><td>0.2196</td><td>0.07451</td><td>0.5835</td><td>1.377</td><td>3.856</td><td>50.96</td><td>0.008805</td><td>0.03029</td><td>0.02488</td><td>0.01448</td><td>0.01486</td><td>0.005412</td><td>17.06</td><td>28.14</td><td>110.6</td><td>897.0</td><td>0.1654</td><td>0.3682</td><td>0.2678</td><td>0.1556</td><td>0.3196</td><td>0.1151</td><td>missing</td></tr><tr><th>9</th><td>844981</td><td>M</td><td>13.0</td><td>21.82</td><td>87.5</td><td>519.8</td><td>0.1273</td><td>0.1932</td><td>0.1859</td><td>0.09353</td><td>0.235</td><td>0.07389</td><td>0.3063</td><td>1.002</td><td>2.406</td><td>24.32</td><td>0.005731</td><td>0.03502</td><td>0.03553</td><td>0.01226</td><td>0.02143</td><td>0.003749</td><td>15.49</td><td>30.73</td><td>106.2</td><td>739.3</td><td>0.1703</td><td>0.5401</td><td>0.539</td><td>0.206</td><td>0.4378</td><td>0.1072</td><td>missing</td></tr><tr><th>10</th><td>84501001</td><td>M</td><td>12.46</td><td>24.04</td><td>83.97</td><td>475.9</td><td>0.1186</td><td>0.2396</td><td>0.2273</td><td>0.08543</td><td>0.203</td><td>0.08243</td><td>0.2976</td><td>1.599</td><td>2.039</td><td>23.94</td><td>0.007149</td><td>0.07217</td><td>0.07743</td><td>0.01432</td><td>0.01789</td><td>0.01008</td><td>15.09</td><td>40.68</td><td>97.65</td><td>711.4</td><td>0.1853</td><td>1.058</td><td>1.105</td><td>0.221</td><td>0.4366</td><td>0.2075</td><td>missing</td></tr><tr><th>11</th><td>845636</td><td>M</td><td>16.02</td><td>23.24</td><td>102.7</td><td>797.8</td><td>0.08206</td><td>0.06669</td><td>0.03299</td><td>0.03323</td><td>0.1528</td><td>0.05697</td><td>0.3795</td><td>1.187</td><td>2.466</td><td>40.51</td><td>0.004029</td><td>0.009269</td><td>0.01101</td><td>0.007591</td><td>0.0146</td><td>0.003042</td><td>19.19</td><td>33.88</td><td>123.8</td><td>1150.0</td><td>0.1181</td><td>0.1551</td><td>0.1459</td><td>0.09975</td><td>0.2948</td><td>0.08452</td><td>missing</td></tr><tr><th>12</th><td>84610002</td><td>M</td><td>15.78</td><td>17.89</td><td>103.6</td><td>781.0</td><td>0.0971</td><td>0.1292</td><td>0.09954</td><td>0.06606</td><td>0.1842</td><td>0.06082</td><td>0.5058</td><td>0.9849</td><td>3.564</td><td>54.16</td><td>0.005771</td><td>0.04061</td><td>0.02791</td><td>0.01282</td><td>0.02008</td><td>0.004144</td><td>20.42</td><td>27.28</td><td>136.5</td><td>1299.0</td><td>0.1396</td><td>0.5609</td><td>0.3965</td><td>0.181</td><td>0.3792</td><td>0.1048</td><td>missing</td></tr><tr><th>13</th><td>846226</td><td>M</td><td>19.17</td><td>24.8</td><td>132.4</td><td>1123.0</td><td>0.0974</td><td>0.2458</td><td>0.2065</td><td>0.1118</td><td>0.2397</td><td>0.078</td><td>0.9555</td><td>3.568</td><td>11.07</td><td>116.2</td><td>0.003139</td><td>0.08297</td><td>0.0889</td><td>0.0409</td><td>0.04484</td><td>0.01284</td><td>20.96</td><td>29.94</td><td>151.7</td><td>1332.0</td><td>0.1037</td><td>0.3903</td><td>0.3639</td><td>0.1767</td><td>0.3176</td><td>0.1023</td><td>missing</td></tr><tr><th>14</th><td>846381</td><td>M</td><td>15.85</td><td>23.95</td><td>103.7</td><td>782.7</td><td>0.08401</td><td>0.1002</td><td>0.09938</td><td>0.05364</td><td>0.1847</td><td>0.05338</td><td>0.4033</td><td>1.078</td><td>2.903</td><td>36.58</td><td>0.009769</td><td>0.03126</td><td>0.05051</td><td>0.01992</td><td>0.02981</td><td>0.003002</td><td>16.84</td><td>27.66</td><td>112.0</td><td>876.5</td><td>0.1131</td><td>0.1924</td><td>0.2322</td><td>0.1119</td><td>0.2809</td><td>0.06287</td><td>missing</td></tr><tr><th>15</th><td>84667401</td><td>M</td><td>13.73</td><td>22.61</td><td>93.6</td><td>578.3</td><td>0.1131</td><td>0.2293</td><td>0.2128</td><td>0.08025</td><td>0.2069</td><td>0.07682</td><td>0.2121</td><td>1.169</td><td>2.061</td><td>19.21</td><td>0.006429</td><td>0.05936</td><td>0.05501</td><td>0.01628</td><td>0.01961</td><td>0.008093</td><td>15.03</td><td>32.01</td><td>108.8</td><td>697.7</td><td>0.1651</td><td>0.7725</td><td>0.6943</td><td>0.2208</td><td>0.3596</td><td>0.1431</td><td>missing</td></tr><tr><th>16</th><td>84799002</td><td>M</td><td>14.54</td><td>27.54</td><td>96.73</td><td>658.8</td><td>0.1139</td><td>0.1595</td><td>0.1639</td><td>0.07364</td><td>0.2303</td><td>0.07077</td><td>0.37</td><td>1.033</td><td>2.879</td><td>32.55</td><td>0.005607</td><td>0.0424</td><td>0.04741</td><td>0.0109</td><td>0.01857</td><td>0.005466</td><td>17.46</td><td>37.13</td><td>124.1</td><td>943.2</td><td>0.1678</td><td>0.6577</td><td>0.7026</td><td>0.1712</td><td>0.4218</td><td>0.1341</td><td>missing</td></tr><tr><th>17</th><td>848406</td><td>M</td><td>14.68</td><td>20.13</td><td>94.74</td><td>684.5</td><td>0.09867</td><td>0.072</td><td>0.07395</td><td>0.05259</td><td>0.1586</td><td>0.05922</td><td>0.4727</td><td>1.24</td><td>3.195</td><td>45.4</td><td>0.005718</td><td>0.01162</td><td>0.01998</td><td>0.01109</td><td>0.0141</td><td>0.002085</td><td>19.07</td><td>30.88</td><td>123.4</td><td>1138.0</td><td>0.1464</td><td>0.1871</td><td>0.2914</td><td>0.1609</td><td>0.3029</td><td>0.08216</td><td>missing</td></tr><tr><th>18</th><td>84862001</td><td>M</td><td>16.13</td><td>20.68</td><td>108.1</td><td>798.8</td><td>0.117</td><td>0.2022</td><td>0.1722</td><td>0.1028</td><td>0.2164</td><td>0.07356</td><td>0.5692</td><td>1.073</td><td>3.854</td><td>54.18</td><td>0.007026</td><td>0.02501</td><td>0.03188</td><td>0.01297</td><td>0.01689</td><td>0.004142</td><td>20.96</td><td>31.48</td><td>136.8</td><td>1315.0</td><td>0.1789</td><td>0.4233</td><td>0.4784</td><td>0.2073</td><td>0.3706</td><td>0.1142</td><td>missing</td></tr><tr><th>19</th><td>849014</td><td>M</td><td>19.81</td><td>22.15</td><td>130.0</td><td>1260.0</td><td>0.09831</td><td>0.1027</td><td>0.1479</td><td>0.09498</td><td>0.1582</td><td>0.05395</td><td>0.7582</td><td>1.017</td><td>5.865</td><td>112.4</td><td>0.006494</td><td>0.01893</td><td>0.03391</td><td>0.01521</td><td>0.01356</td><td>0.001997</td><td>27.32</td><td>30.88</td><td>186.8</td><td>2398.0</td><td>0.1512</td><td>0.315</td><td>0.5372</td><td>0.2388</td><td>0.2768</td><td>0.07615</td><td>missing</td></tr><tr><th>20</th><td>8510426</td><td>B</td><td>13.54</td><td>14.36</td><td>87.46</td><td>566.3</td><td>0.09779</td><td>0.08129</td><td>0.06664</td><td>0.04781</td><td>0.1885</td><td>0.05766</td><td>0.2699</td><td>0.7886</td><td>2.058</td><td>23.56</td><td>0.008462</td><td>0.0146</td><td>0.02387</td><td>0.01315</td><td>0.0198</td><td>0.0023</td><td>15.11</td><td>19.26</td><td>99.7</td><td>711.2</td><td>0.144</td><td>0.1773</td><td>0.239</td><td>0.1288</td><td>0.2977</td><td>0.07259</td><td>missing</td></tr><tr><th>21</th><td>8510653</td><td>B</td><td>13.08</td><td>15.71</td><td>85.63</td><td>520.0</td><td>0.1075</td><td>0.127</td><td>0.04568</td><td>0.0311</td><td>0.1967</td><td>0.06811</td><td>0.1852</td><td>0.7477</td><td>1.383</td><td>14.67</td><td>0.004097</td><td>0.01898</td><td>0.01698</td><td>0.00649</td><td>0.01678</td><td>0.002425</td><td>14.5</td><td>20.49</td><td>96.09</td><td>630.5</td><td>0.1312</td><td>0.2776</td><td>0.189</td><td>0.07283</td><td>0.3184</td><td>0.08183</td><td>missing</td></tr><tr><th>22</th><td>8510824</td><td>B</td><td>9.504</td><td>12.44</td><td>60.34</td><td>273.9</td><td>0.1024</td><td>0.06492</td><td>0.02956</td><td>0.02076</td><td>0.1815</td><td>0.06905</td><td>0.2773</td><td>0.9768</td><td>1.909</td><td>15.7</td><td>0.009606</td><td>0.01432</td><td>0.01985</td><td>0.01421</td><td>0.02027</td><td>0.002968</td><td>10.23</td><td>15.66</td><td>65.13</td><td>314.9</td><td>0.1324</td><td>0.1148</td><td>0.08867</td><td>0.06227</td><td>0.245</td><td>0.07773</td><td>missing</td></tr><tr><th>23</th><td>8511133</td><td>M</td><td>15.34</td><td>14.26</td><td>102.5</td><td>704.4</td><td>0.1073</td><td>0.2135</td><td>0.2077</td><td>0.09756</td><td>0.2521</td><td>0.07032</td><td>0.4388</td><td>0.7096</td><td>3.384</td><td>44.91</td><td>0.006789</td><td>0.05328</td><td>0.06446</td><td>0.02252</td><td>0.03672</td><td>0.004394</td><td>18.07</td><td>19.08</td><td>125.1</td><td>980.9</td><td>0.139</td><td>0.5954</td><td>0.6305</td><td>0.2393</td><td>0.4667</td><td>0.09946</td><td>missing</td></tr><tr><th>24</th><td>851509</td><td>M</td><td>21.16</td><td>23.04</td><td>137.2</td><td>1404.0</td><td>0.09428</td><td>0.1022</td><td>0.1097</td><td>0.08632</td><td>0.1769</td><td>0.05278</td><td>0.6917</td><td>1.127</td><td>4.303</td><td>93.99</td><td>0.004728</td><td>0.01259</td><td>0.01715</td><td>0.01038</td><td>0.01083</td><td>0.001987</td><td>29.17</td><td>35.59</td><td>188.0</td><td>2615.0</td><td>0.1401</td><td>0.26</td><td>0.3155</td><td>0.2009</td><td>0.2822</td><td>0.07526</td><td>missing</td></tr><tr><th>25</th><td>852552</td><td>M</td><td>16.65</td><td>21.38</td><td>110.0</td><td>904.6</td><td>0.1121</td><td>0.1457</td><td>0.1525</td><td>0.0917</td><td>0.1995</td><td>0.0633</td><td>0.8068</td><td>0.9017</td><td>5.455</td><td>102.6</td><td>0.006048</td><td>0.01882</td><td>0.02741</td><td>0.0113</td><td>0.01468</td><td>0.002801</td><td>26.46</td><td>31.56</td><td>177.0</td><td>2215.0</td><td>0.1805</td><td>0.3578</td><td>0.4695</td><td>0.2095</td><td>0.3613</td><td>0.09564</td><td>missing</td></tr><tr><th>26</th><td>852631</td><td>M</td><td>17.14</td><td>16.4</td><td>116.0</td><td>912.7</td><td>0.1186</td><td>0.2276</td><td>0.2229</td><td>0.1401</td><td>0.304</td><td>0.07413</td><td>1.046</td><td>0.976</td><td>7.276</td><td>111.4</td><td>0.008029</td><td>0.03799</td><td>0.03732</td><td>0.02397</td><td>0.02308</td><td>0.007444</td><td>22.25</td><td>21.4</td><td>152.4</td><td>1461.0</td><td>0.1545</td><td>0.3949</td><td>0.3853</td><td>0.255</td><td>0.4066</td><td>0.1059</td><td>missing</td></tr><tr><th>27</th><td>852763</td><td>M</td><td>14.58</td><td>21.53</td><td>97.41</td><td>644.8</td><td>0.1054</td><td>0.1868</td><td>0.1425</td><td>0.08783</td><td>0.2252</td><td>0.06924</td><td>0.2545</td><td>0.9832</td><td>2.11</td><td>21.05</td><td>0.004452</td><td>0.03055</td><td>0.02681</td><td>0.01352</td><td>0.01454</td><td>0.003711</td><td>17.62</td><td>33.21</td><td>122.4</td><td>896.9</td><td>0.1525</td><td>0.6643</td><td>0.5539</td><td>0.2701</td><td>0.4264</td><td>0.1275</td><td>missing</td></tr><tr><th>28</th><td>852781</td><td>M</td><td>18.61</td><td>20.25</td><td>122.1</td><td>1094.0</td><td>0.0944</td><td>0.1066</td><td>0.149</td><td>0.07731</td><td>0.1697</td><td>0.05699</td><td>0.8529</td><td>1.849</td><td>5.632</td><td>93.54</td><td>0.01075</td><td>0.02722</td><td>0.05081</td><td>0.01911</td><td>0.02293</td><td>0.004217</td><td>21.31</td><td>27.26</td><td>139.9</td><td>1403.0</td><td>0.1338</td><td>0.2117</td><td>0.3446</td><td>0.149</td><td>0.2341</td><td>0.07421</td><td>missing</td></tr><tr><th>29</th><td>852973</td><td>M</td><td>15.3</td><td>25.27</td><td>102.4</td><td>732.4</td><td>0.1082</td><td>0.1697</td><td>0.1683</td><td>0.08751</td><td>0.1926</td><td>0.0654</td><td>0.439</td><td>1.012</td><td>3.498</td><td>43.5</td><td>0.005233</td><td>0.03057</td><td>0.03576</td><td>0.01083</td><td>0.01768</td><td>0.002967</td><td>20.27</td><td>36.71</td><td>149.3</td><td>1269.0</td><td>0.1641</td><td>0.611</td><td>0.6335</td><td>0.2024</td><td>0.4027</td><td>0.09876</td><td>missing</td></tr><tr><th>30</th><td>853201</td><td>M</td><td>17.57</td><td>15.05</td><td>115.0</td><td>955.1</td><td>0.09847</td><td>0.1157</td><td>0.09875</td><td>0.07953</td><td>0.1739</td><td>0.06149</td><td>0.6003</td><td>0.8225</td><td>4.655</td><td>61.1</td><td>0.005627</td><td>0.03033</td><td>0.03407</td><td>0.01354</td><td>0.01925</td><td>0.003742</td><td>20.01</td><td>19.52</td><td>134.9</td><td>1227.0</td><td>0.1255</td><td>0.2812</td><td>0.2489</td><td>0.1456</td><td>0.2756</td><td>0.07919</td><td>missing</td></tr><tr><th>&vellip;</th><td>&vellip;</td><td>&vellip;</td><td>&vellip;</td><td>&vellip;</td><td>&vellip;</td><td>&vellip;</td><td>&vellip;</td><td>&vellip;</td><td>&vellip;</td><td>&vellip;</td><td>&vellip;</td><td>&vellip;</td><td>&vellip;</td><td>&vellip;</td><td>&vellip;</td><td>&vellip;</td><td>&vellip;</td><td>&vellip;</td><td>&vellip;</td><td>&vellip;</td><td>&vellip;</td><td>&vellip;</td><td>&vellip;</td><td>&vellip;</td><td>&vellip;</td><td>&vellip;</td><td>&vellip;</td><td>&vellip;</td><td>&vellip;</td><td>&vellip;</td><td>&vellip;</td><td>&vellip;</td><td>&vellip;</td></tr></tbody></table>"
      ],
      "text/latex": [
       "\\begin{tabular}{r|ccccccccccccccccccccccccccccccccc}\n",
       "\t& id & diagnosis & radius\\_mean & texture\\_mean & perimeter\\_mean & area\\_mean & smoothness\\_mean & compactness\\_mean & concavity\\_mean & concave points\\_mean & symmetry\\_mean & fractal\\_dimension\\_mean & radius\\_se & texture\\_se & perimeter\\_se & area\\_se & smoothness\\_se & compactness\\_se & concavity\\_se & concave points\\_se & symmetry\\_se & fractal\\_dimension\\_se & radius\\_worst & texture\\_worst & perimeter\\_worst & area\\_worst & smoothness\\_worst & compactness\\_worst & concavity\\_worst & concave points\\_worst & symmetry\\_worst & fractal\\_dimension\\_worst & Column33\\\\\n",
       "\t\\hline\n",
       "\t& Int64 & String & Float64 & Float64 & Float64 & Float64 & Float64 & Float64 & Float64 & Float64 & Float64 & Float64 & Float64 & Float64 & Float64 & Float64 & Float64 & Float64 & Float64 & Float64 & Float64 & Float64 & Float64 & Float64 & Float64 & Float64 & Float64 & Float64 & Float64 & Float64 & Float64 & Float64 & Missing\\\\\n",
       "\t\\hline\n",
       "\t1 & 842302 & M & 17.99 & 10.38 & 122.8 & 1001.0 & 0.1184 & 0.2776 & 0.3001 & 0.1471 & 0.2419 & 0.07871 & 1.095 & 0.9053 & 8.589 & 153.4 & 0.006399 & 0.04904 & 0.05373 & 0.01587 & 0.03003 & 0.006193 & 25.38 & 17.33 & 184.6 & 2019.0 & 0.1622 & 0.6656 & 0.7119 & 0.2654 & 0.4601 & 0.1189 &  \\\\\n",
       "\t2 & 842517 & M & 20.57 & 17.77 & 132.9 & 1326.0 & 0.08474 & 0.07864 & 0.0869 & 0.07017 & 0.1812 & 0.05667 & 0.5435 & 0.7339 & 3.398 & 74.08 & 0.005225 & 0.01308 & 0.0186 & 0.0134 & 0.01389 & 0.003532 & 24.99 & 23.41 & 158.8 & 1956.0 & 0.1238 & 0.1866 & 0.2416 & 0.186 & 0.275 & 0.08902 &  \\\\\n",
       "\t3 & 84300903 & M & 19.69 & 21.25 & 130.0 & 1203.0 & 0.1096 & 0.1599 & 0.1974 & 0.1279 & 0.2069 & 0.05999 & 0.7456 & 0.7869 & 4.585 & 94.03 & 0.00615 & 0.04006 & 0.03832 & 0.02058 & 0.0225 & 0.004571 & 23.57 & 25.53 & 152.5 & 1709.0 & 0.1444 & 0.4245 & 0.4504 & 0.243 & 0.3613 & 0.08758 &  \\\\\n",
       "\t4 & 84348301 & M & 11.42 & 20.38 & 77.58 & 386.1 & 0.1425 & 0.2839 & 0.2414 & 0.1052 & 0.2597 & 0.09744 & 0.4956 & 1.156 & 3.445 & 27.23 & 0.00911 & 0.07458 & 0.05661 & 0.01867 & 0.05963 & 0.009208 & 14.91 & 26.5 & 98.87 & 567.7 & 0.2098 & 0.8663 & 0.6869 & 0.2575 & 0.6638 & 0.173 &  \\\\\n",
       "\t5 & 84358402 & M & 20.29 & 14.34 & 135.1 & 1297.0 & 0.1003 & 0.1328 & 0.198 & 0.1043 & 0.1809 & 0.05883 & 0.7572 & 0.7813 & 5.438 & 94.44 & 0.01149 & 0.02461 & 0.05688 & 0.01885 & 0.01756 & 0.005115 & 22.54 & 16.67 & 152.2 & 1575.0 & 0.1374 & 0.205 & 0.4 & 0.1625 & 0.2364 & 0.07678 &  \\\\\n",
       "\t6 & 843786 & M & 12.45 & 15.7 & 82.57 & 477.1 & 0.1278 & 0.17 & 0.1578 & 0.08089 & 0.2087 & 0.07613 & 0.3345 & 0.8902 & 2.217 & 27.19 & 0.00751 & 0.03345 & 0.03672 & 0.01137 & 0.02165 & 0.005082 & 15.47 & 23.75 & 103.4 & 741.6 & 0.1791 & 0.5249 & 0.5355 & 0.1741 & 0.3985 & 0.1244 &  \\\\\n",
       "\t7 & 844359 & M & 18.25 & 19.98 & 119.6 & 1040.0 & 0.09463 & 0.109 & 0.1127 & 0.074 & 0.1794 & 0.05742 & 0.4467 & 0.7732 & 3.18 & 53.91 & 0.004314 & 0.01382 & 0.02254 & 0.01039 & 0.01369 & 0.002179 & 22.88 & 27.66 & 153.2 & 1606.0 & 0.1442 & 0.2576 & 0.3784 & 0.1932 & 0.3063 & 0.08368 &  \\\\\n",
       "\t8 & 84458202 & M & 13.71 & 20.83 & 90.2 & 577.9 & 0.1189 & 0.1645 & 0.09366 & 0.05985 & 0.2196 & 0.07451 & 0.5835 & 1.377 & 3.856 & 50.96 & 0.008805 & 0.03029 & 0.02488 & 0.01448 & 0.01486 & 0.005412 & 17.06 & 28.14 & 110.6 & 897.0 & 0.1654 & 0.3682 & 0.2678 & 0.1556 & 0.3196 & 0.1151 &  \\\\\n",
       "\t9 & 844981 & M & 13.0 & 21.82 & 87.5 & 519.8 & 0.1273 & 0.1932 & 0.1859 & 0.09353 & 0.235 & 0.07389 & 0.3063 & 1.002 & 2.406 & 24.32 & 0.005731 & 0.03502 & 0.03553 & 0.01226 & 0.02143 & 0.003749 & 15.49 & 30.73 & 106.2 & 739.3 & 0.1703 & 0.5401 & 0.539 & 0.206 & 0.4378 & 0.1072 &  \\\\\n",
       "\t10 & 84501001 & M & 12.46 & 24.04 & 83.97 & 475.9 & 0.1186 & 0.2396 & 0.2273 & 0.08543 & 0.203 & 0.08243 & 0.2976 & 1.599 & 2.039 & 23.94 & 0.007149 & 0.07217 & 0.07743 & 0.01432 & 0.01789 & 0.01008 & 15.09 & 40.68 & 97.65 & 711.4 & 0.1853 & 1.058 & 1.105 & 0.221 & 0.4366 & 0.2075 &  \\\\\n",
       "\t11 & 845636 & M & 16.02 & 23.24 & 102.7 & 797.8 & 0.08206 & 0.06669 & 0.03299 & 0.03323 & 0.1528 & 0.05697 & 0.3795 & 1.187 & 2.466 & 40.51 & 0.004029 & 0.009269 & 0.01101 & 0.007591 & 0.0146 & 0.003042 & 19.19 & 33.88 & 123.8 & 1150.0 & 0.1181 & 0.1551 & 0.1459 & 0.09975 & 0.2948 & 0.08452 &  \\\\\n",
       "\t12 & 84610002 & M & 15.78 & 17.89 & 103.6 & 781.0 & 0.0971 & 0.1292 & 0.09954 & 0.06606 & 0.1842 & 0.06082 & 0.5058 & 0.9849 & 3.564 & 54.16 & 0.005771 & 0.04061 & 0.02791 & 0.01282 & 0.02008 & 0.004144 & 20.42 & 27.28 & 136.5 & 1299.0 & 0.1396 & 0.5609 & 0.3965 & 0.181 & 0.3792 & 0.1048 &  \\\\\n",
       "\t13 & 846226 & M & 19.17 & 24.8 & 132.4 & 1123.0 & 0.0974 & 0.2458 & 0.2065 & 0.1118 & 0.2397 & 0.078 & 0.9555 & 3.568 & 11.07 & 116.2 & 0.003139 & 0.08297 & 0.0889 & 0.0409 & 0.04484 & 0.01284 & 20.96 & 29.94 & 151.7 & 1332.0 & 0.1037 & 0.3903 & 0.3639 & 0.1767 & 0.3176 & 0.1023 &  \\\\\n",
       "\t14 & 846381 & M & 15.85 & 23.95 & 103.7 & 782.7 & 0.08401 & 0.1002 & 0.09938 & 0.05364 & 0.1847 & 0.05338 & 0.4033 & 1.078 & 2.903 & 36.58 & 0.009769 & 0.03126 & 0.05051 & 0.01992 & 0.02981 & 0.003002 & 16.84 & 27.66 & 112.0 & 876.5 & 0.1131 & 0.1924 & 0.2322 & 0.1119 & 0.2809 & 0.06287 &  \\\\\n",
       "\t15 & 84667401 & M & 13.73 & 22.61 & 93.6 & 578.3 & 0.1131 & 0.2293 & 0.2128 & 0.08025 & 0.2069 & 0.07682 & 0.2121 & 1.169 & 2.061 & 19.21 & 0.006429 & 0.05936 & 0.05501 & 0.01628 & 0.01961 & 0.008093 & 15.03 & 32.01 & 108.8 & 697.7 & 0.1651 & 0.7725 & 0.6943 & 0.2208 & 0.3596 & 0.1431 &  \\\\\n",
       "\t16 & 84799002 & M & 14.54 & 27.54 & 96.73 & 658.8 & 0.1139 & 0.1595 & 0.1639 & 0.07364 & 0.2303 & 0.07077 & 0.37 & 1.033 & 2.879 & 32.55 & 0.005607 & 0.0424 & 0.04741 & 0.0109 & 0.01857 & 0.005466 & 17.46 & 37.13 & 124.1 & 943.2 & 0.1678 & 0.6577 & 0.7026 & 0.1712 & 0.4218 & 0.1341 &  \\\\\n",
       "\t17 & 848406 & M & 14.68 & 20.13 & 94.74 & 684.5 & 0.09867 & 0.072 & 0.07395 & 0.05259 & 0.1586 & 0.05922 & 0.4727 & 1.24 & 3.195 & 45.4 & 0.005718 & 0.01162 & 0.01998 & 0.01109 & 0.0141 & 0.002085 & 19.07 & 30.88 & 123.4 & 1138.0 & 0.1464 & 0.1871 & 0.2914 & 0.1609 & 0.3029 & 0.08216 &  \\\\\n",
       "\t18 & 84862001 & M & 16.13 & 20.68 & 108.1 & 798.8 & 0.117 & 0.2022 & 0.1722 & 0.1028 & 0.2164 & 0.07356 & 0.5692 & 1.073 & 3.854 & 54.18 & 0.007026 & 0.02501 & 0.03188 & 0.01297 & 0.01689 & 0.004142 & 20.96 & 31.48 & 136.8 & 1315.0 & 0.1789 & 0.4233 & 0.4784 & 0.2073 & 0.3706 & 0.1142 &  \\\\\n",
       "\t19 & 849014 & M & 19.81 & 22.15 & 130.0 & 1260.0 & 0.09831 & 0.1027 & 0.1479 & 0.09498 & 0.1582 & 0.05395 & 0.7582 & 1.017 & 5.865 & 112.4 & 0.006494 & 0.01893 & 0.03391 & 0.01521 & 0.01356 & 0.001997 & 27.32 & 30.88 & 186.8 & 2398.0 & 0.1512 & 0.315 & 0.5372 & 0.2388 & 0.2768 & 0.07615 &  \\\\\n",
       "\t20 & 8510426 & B & 13.54 & 14.36 & 87.46 & 566.3 & 0.09779 & 0.08129 & 0.06664 & 0.04781 & 0.1885 & 0.05766 & 0.2699 & 0.7886 & 2.058 & 23.56 & 0.008462 & 0.0146 & 0.02387 & 0.01315 & 0.0198 & 0.0023 & 15.11 & 19.26 & 99.7 & 711.2 & 0.144 & 0.1773 & 0.239 & 0.1288 & 0.2977 & 0.07259 &  \\\\\n",
       "\t21 & 8510653 & B & 13.08 & 15.71 & 85.63 & 520.0 & 0.1075 & 0.127 & 0.04568 & 0.0311 & 0.1967 & 0.06811 & 0.1852 & 0.7477 & 1.383 & 14.67 & 0.004097 & 0.01898 & 0.01698 & 0.00649 & 0.01678 & 0.002425 & 14.5 & 20.49 & 96.09 & 630.5 & 0.1312 & 0.2776 & 0.189 & 0.07283 & 0.3184 & 0.08183 &  \\\\\n",
       "\t22 & 8510824 & B & 9.504 & 12.44 & 60.34 & 273.9 & 0.1024 & 0.06492 & 0.02956 & 0.02076 & 0.1815 & 0.06905 & 0.2773 & 0.9768 & 1.909 & 15.7 & 0.009606 & 0.01432 & 0.01985 & 0.01421 & 0.02027 & 0.002968 & 10.23 & 15.66 & 65.13 & 314.9 & 0.1324 & 0.1148 & 0.08867 & 0.06227 & 0.245 & 0.07773 &  \\\\\n",
       "\t23 & 8511133 & M & 15.34 & 14.26 & 102.5 & 704.4 & 0.1073 & 0.2135 & 0.2077 & 0.09756 & 0.2521 & 0.07032 & 0.4388 & 0.7096 & 3.384 & 44.91 & 0.006789 & 0.05328 & 0.06446 & 0.02252 & 0.03672 & 0.004394 & 18.07 & 19.08 & 125.1 & 980.9 & 0.139 & 0.5954 & 0.6305 & 0.2393 & 0.4667 & 0.09946 &  \\\\\n",
       "\t24 & 851509 & M & 21.16 & 23.04 & 137.2 & 1404.0 & 0.09428 & 0.1022 & 0.1097 & 0.08632 & 0.1769 & 0.05278 & 0.6917 & 1.127 & 4.303 & 93.99 & 0.004728 & 0.01259 & 0.01715 & 0.01038 & 0.01083 & 0.001987 & 29.17 & 35.59 & 188.0 & 2615.0 & 0.1401 & 0.26 & 0.3155 & 0.2009 & 0.2822 & 0.07526 &  \\\\\n",
       "\t25 & 852552 & M & 16.65 & 21.38 & 110.0 & 904.6 & 0.1121 & 0.1457 & 0.1525 & 0.0917 & 0.1995 & 0.0633 & 0.8068 & 0.9017 & 5.455 & 102.6 & 0.006048 & 0.01882 & 0.02741 & 0.0113 & 0.01468 & 0.002801 & 26.46 & 31.56 & 177.0 & 2215.0 & 0.1805 & 0.3578 & 0.4695 & 0.2095 & 0.3613 & 0.09564 &  \\\\\n",
       "\t26 & 852631 & M & 17.14 & 16.4 & 116.0 & 912.7 & 0.1186 & 0.2276 & 0.2229 & 0.1401 & 0.304 & 0.07413 & 1.046 & 0.976 & 7.276 & 111.4 & 0.008029 & 0.03799 & 0.03732 & 0.02397 & 0.02308 & 0.007444 & 22.25 & 21.4 & 152.4 & 1461.0 & 0.1545 & 0.3949 & 0.3853 & 0.255 & 0.4066 & 0.1059 &  \\\\\n",
       "\t27 & 852763 & M & 14.58 & 21.53 & 97.41 & 644.8 & 0.1054 & 0.1868 & 0.1425 & 0.08783 & 0.2252 & 0.06924 & 0.2545 & 0.9832 & 2.11 & 21.05 & 0.004452 & 0.03055 & 0.02681 & 0.01352 & 0.01454 & 0.003711 & 17.62 & 33.21 & 122.4 & 896.9 & 0.1525 & 0.6643 & 0.5539 & 0.2701 & 0.4264 & 0.1275 &  \\\\\n",
       "\t28 & 852781 & M & 18.61 & 20.25 & 122.1 & 1094.0 & 0.0944 & 0.1066 & 0.149 & 0.07731 & 0.1697 & 0.05699 & 0.8529 & 1.849 & 5.632 & 93.54 & 0.01075 & 0.02722 & 0.05081 & 0.01911 & 0.02293 & 0.004217 & 21.31 & 27.26 & 139.9 & 1403.0 & 0.1338 & 0.2117 & 0.3446 & 0.149 & 0.2341 & 0.07421 &  \\\\\n",
       "\t29 & 852973 & M & 15.3 & 25.27 & 102.4 & 732.4 & 0.1082 & 0.1697 & 0.1683 & 0.08751 & 0.1926 & 0.0654 & 0.439 & 1.012 & 3.498 & 43.5 & 0.005233 & 0.03057 & 0.03576 & 0.01083 & 0.01768 & 0.002967 & 20.27 & 36.71 & 149.3 & 1269.0 & 0.1641 & 0.611 & 0.6335 & 0.2024 & 0.4027 & 0.09876 &  \\\\\n",
       "\t30 & 853201 & M & 17.57 & 15.05 & 115.0 & 955.1 & 0.09847 & 0.1157 & 0.09875 & 0.07953 & 0.1739 & 0.06149 & 0.6003 & 0.8225 & 4.655 & 61.1 & 0.005627 & 0.03033 & 0.03407 & 0.01354 & 0.01925 & 0.003742 & 20.01 & 19.52 & 134.9 & 1227.0 & 0.1255 & 0.2812 & 0.2489 & 0.1456 & 0.2756 & 0.07919 &  \\\\\n",
       "\t$\\dots$ & $\\dots$ & $\\dots$ & $\\dots$ & $\\dots$ & $\\dots$ & $\\dots$ & $\\dots$ & $\\dots$ & $\\dots$ & $\\dots$ & $\\dots$ & $\\dots$ & $\\dots$ & $\\dots$ & $\\dots$ & $\\dots$ & $\\dots$ & $\\dots$ & $\\dots$ & $\\dots$ & $\\dots$ & $\\dots$ & $\\dots$ & $\\dots$ & $\\dots$ & $\\dots$ & $\\dots$ & $\\dots$ & $\\dots$ & $\\dots$ & $\\dots$ & $\\dots$ & $\\dots$ \\\\\n",
       "\\end{tabular}\n"
      ],
      "text/plain": [
       "569×33 typename(DataFrame)\n",
       "│ Row │ id       │ diagnosis │ radius_mean │ texture_mean │ perimeter_mean │ area_mean │ smoothness_mean │ compactness_mean │ concavity_mean │ concave points_mean │ symmetry_mean │ fractal_dimension_mean │ radius_se │ texture_se │ perimeter_se │ area_se │ smoothness_se │ compactness_se │ concavity_se │ concave points_se │ symmetry_se │ fractal_dimension_se │ radius_worst │ texture_worst │ perimeter_worst │ area_worst │ smoothness_worst │ compactness_worst │ concavity_worst │ concave points_worst │ symmetry_worst │ fractal_dimension_worst │ Column33 │\n",
       "│     │ \u001b[90mInt64\u001b[39m    │ \u001b[90mString\u001b[39m    │ \u001b[90mFloat64\u001b[39m     │ \u001b[90mFloat64\u001b[39m      │ \u001b[90mFloat64\u001b[39m        │ \u001b[90mFloat64\u001b[39m   │ \u001b[90mFloat64\u001b[39m         │ \u001b[90mFloat64\u001b[39m          │ \u001b[90mFloat64\u001b[39m        │ \u001b[90mFloat64\u001b[39m             │ \u001b[90mFloat64\u001b[39m       │ \u001b[90mFloat64\u001b[39m                │ \u001b[90mFloat64\u001b[39m   │ \u001b[90mFloat64\u001b[39m    │ \u001b[90mFloat64\u001b[39m      │ \u001b[90mFloat64\u001b[39m │ \u001b[90mFloat64\u001b[39m       │ \u001b[90mFloat64\u001b[39m        │ \u001b[90mFloat64\u001b[39m      │ \u001b[90mFloat64\u001b[39m           │ \u001b[90mFloat64\u001b[39m     │ \u001b[90mFloat64\u001b[39m              │ \u001b[90mFloat64\u001b[39m      │ \u001b[90mFloat64\u001b[39m       │ \u001b[90mFloat64\u001b[39m         │ \u001b[90mFloat64\u001b[39m    │ \u001b[90mFloat64\u001b[39m          │ \u001b[90mFloat64\u001b[39m           │ \u001b[90mFloat64\u001b[39m         │ \u001b[90mFloat64\u001b[39m              │ \u001b[90mFloat64\u001b[39m        │ \u001b[90mFloat64\u001b[39m                 │ \u001b[90mMissing\u001b[39m  │\n",
       "├─────┼──────────┼───────────┼─────────────┼──────────────┼────────────────┼───────────┼─────────────────┼──────────────────┼────────────────┼─────────────────────┼───────────────┼────────────────────────┼───────────┼────────────┼──────────────┼─────────┼───────────────┼────────────────┼──────────────┼───────────────────┼─────────────┼──────────────────────┼──────────────┼───────────────┼─────────────────┼────────────┼──────────────────┼───────────────────┼─────────────────┼──────────────────────┼────────────────┼─────────────────────────┼──────────┤\n",
       "│ 1   │ 842302   │ M         │ 17.99       │ 10.38        │ 122.8          │ 1001.0    │ 0.1184          │ 0.2776           │ 0.3001         │ 0.1471              │ 0.2419        │ 0.07871                │ 1.095     │ 0.9053     │ 8.589        │ 153.4   │ 0.006399      │ 0.04904        │ 0.05373      │ 0.01587           │ 0.03003     │ 0.006193             │ 25.38        │ 17.33         │ 184.6           │ 2019.0     │ 0.1622           │ 0.6656            │ 0.7119          │ 0.2654               │ 0.4601         │ 0.1189                  │ \u001b[90mmissing\u001b[39m  │\n",
       "│ 2   │ 842517   │ M         │ 20.57       │ 17.77        │ 132.9          │ 1326.0    │ 0.08474         │ 0.07864          │ 0.0869         │ 0.07017             │ 0.1812        │ 0.05667                │ 0.5435    │ 0.7339     │ 3.398        │ 74.08   │ 0.005225      │ 0.01308        │ 0.0186       │ 0.0134            │ 0.01389     │ 0.003532             │ 24.99        │ 23.41         │ 158.8           │ 1956.0     │ 0.1238           │ 0.1866            │ 0.2416          │ 0.186                │ 0.275          │ 0.08902                 │ \u001b[90mmissing\u001b[39m  │\n",
       "│ 3   │ 84300903 │ M         │ 19.69       │ 21.25        │ 130.0          │ 1203.0    │ 0.1096          │ 0.1599           │ 0.1974         │ 0.1279              │ 0.2069        │ 0.05999                │ 0.7456    │ 0.7869     │ 4.585        │ 94.03   │ 0.00615       │ 0.04006        │ 0.03832      │ 0.02058           │ 0.0225      │ 0.004571             │ 23.57        │ 25.53         │ 152.5           │ 1709.0     │ 0.1444           │ 0.4245            │ 0.4504          │ 0.243                │ 0.3613         │ 0.08758                 │ \u001b[90mmissing\u001b[39m  │\n",
       "│ 4   │ 84348301 │ M         │ 11.42       │ 20.38        │ 77.58          │ 386.1     │ 0.1425          │ 0.2839           │ 0.2414         │ 0.1052              │ 0.2597        │ 0.09744                │ 0.4956    │ 1.156      │ 3.445        │ 27.23   │ 0.00911       │ 0.07458        │ 0.05661      │ 0.01867           │ 0.05963     │ 0.009208             │ 14.91        │ 26.5          │ 98.87           │ 567.7      │ 0.2098           │ 0.8663            │ 0.6869          │ 0.2575               │ 0.6638         │ 0.173                   │ \u001b[90mmissing\u001b[39m  │\n",
       "│ 5   │ 84358402 │ M         │ 20.29       │ 14.34        │ 135.1          │ 1297.0    │ 0.1003          │ 0.1328           │ 0.198          │ 0.1043              │ 0.1809        │ 0.05883                │ 0.7572    │ 0.7813     │ 5.438        │ 94.44   │ 0.01149       │ 0.02461        │ 0.05688      │ 0.01885           │ 0.01756     │ 0.005115             │ 22.54        │ 16.67         │ 152.2           │ 1575.0     │ 0.1374           │ 0.205             │ 0.4             │ 0.1625               │ 0.2364         │ 0.07678                 │ \u001b[90mmissing\u001b[39m  │\n",
       "│ 6   │ 843786   │ M         │ 12.45       │ 15.7         │ 82.57          │ 477.1     │ 0.1278          │ 0.17             │ 0.1578         │ 0.08089             │ 0.2087        │ 0.07613                │ 0.3345    │ 0.8902     │ 2.217        │ 27.19   │ 0.00751       │ 0.03345        │ 0.03672      │ 0.01137           │ 0.02165     │ 0.005082             │ 15.47        │ 23.75         │ 103.4           │ 741.6      │ 0.1791           │ 0.5249            │ 0.5355          │ 0.1741               │ 0.3985         │ 0.1244                  │ \u001b[90mmissing\u001b[39m  │\n",
       "│ 7   │ 844359   │ M         │ 18.25       │ 19.98        │ 119.6          │ 1040.0    │ 0.09463         │ 0.109            │ 0.1127         │ 0.074               │ 0.1794        │ 0.05742                │ 0.4467    │ 0.7732     │ 3.18         │ 53.91   │ 0.004314      │ 0.01382        │ 0.02254      │ 0.01039           │ 0.01369     │ 0.002179             │ 22.88        │ 27.66         │ 153.2           │ 1606.0     │ 0.1442           │ 0.2576            │ 0.3784          │ 0.1932               │ 0.3063         │ 0.08368                 │ \u001b[90mmissing\u001b[39m  │\n",
       "│ 8   │ 84458202 │ M         │ 13.71       │ 20.83        │ 90.2           │ 577.9     │ 0.1189          │ 0.1645           │ 0.09366        │ 0.05985             │ 0.2196        │ 0.07451                │ 0.5835    │ 1.377      │ 3.856        │ 50.96   │ 0.008805      │ 0.03029        │ 0.02488      │ 0.01448           │ 0.01486     │ 0.005412             │ 17.06        │ 28.14         │ 110.6           │ 897.0      │ 0.1654           │ 0.3682            │ 0.2678          │ 0.1556               │ 0.3196         │ 0.1151                  │ \u001b[90mmissing\u001b[39m  │\n",
       "│ 9   │ 844981   │ M         │ 13.0        │ 21.82        │ 87.5           │ 519.8     │ 0.1273          │ 0.1932           │ 0.1859         │ 0.09353             │ 0.235         │ 0.07389                │ 0.3063    │ 1.002      │ 2.406        │ 24.32   │ 0.005731      │ 0.03502        │ 0.03553      │ 0.01226           │ 0.02143     │ 0.003749             │ 15.49        │ 30.73         │ 106.2           │ 739.3      │ 0.1703           │ 0.5401            │ 0.539           │ 0.206                │ 0.4378         │ 0.1072                  │ \u001b[90mmissing\u001b[39m  │\n",
       "│ 10  │ 84501001 │ M         │ 12.46       │ 24.04        │ 83.97          │ 475.9     │ 0.1186          │ 0.2396           │ 0.2273         │ 0.08543             │ 0.203         │ 0.08243                │ 0.2976    │ 1.599      │ 2.039        │ 23.94   │ 0.007149      │ 0.07217        │ 0.07743      │ 0.01432           │ 0.01789     │ 0.01008              │ 15.09        │ 40.68         │ 97.65           │ 711.4      │ 0.1853           │ 1.058             │ 1.105           │ 0.221                │ 0.4366         │ 0.2075                  │ \u001b[90mmissing\u001b[39m  │\n",
       "⋮\n",
       "│ 559 │ 925277   │ B         │ 14.59       │ 22.68        │ 96.39          │ 657.1     │ 0.08473         │ 0.133            │ 0.1029         │ 0.03736             │ 0.1454        │ 0.06147                │ 0.2254    │ 1.108      │ 2.224        │ 19.54   │ 0.004242      │ 0.04639        │ 0.06578      │ 0.01606           │ 0.01638     │ 0.004406             │ 15.48        │ 27.27         │ 105.9           │ 733.5      │ 0.1026           │ 0.3171            │ 0.3662          │ 0.1105               │ 0.2258         │ 0.08004                 │ \u001b[90mmissing\u001b[39m  │\n",
       "│ 560 │ 925291   │ B         │ 11.51       │ 23.93        │ 74.52          │ 403.5     │ 0.09261         │ 0.1021           │ 0.1112         │ 0.04105             │ 0.1388        │ 0.0657                 │ 0.2388    │ 2.904      │ 1.936        │ 16.97   │ 0.0082        │ 0.02982        │ 0.05738      │ 0.01267           │ 0.01488     │ 0.004738             │ 12.48        │ 37.16         │ 82.28           │ 474.2      │ 0.1298           │ 0.2517            │ 0.363           │ 0.09653              │ 0.2112         │ 0.08732                 │ \u001b[90mmissing\u001b[39m  │\n",
       "│ 561 │ 925292   │ B         │ 14.05       │ 27.15        │ 91.38          │ 600.4     │ 0.09929         │ 0.1126           │ 0.04462        │ 0.04304             │ 0.1537        │ 0.06171                │ 0.3645    │ 1.492      │ 2.888        │ 29.84   │ 0.007256      │ 0.02678        │ 0.02071      │ 0.01626           │ 0.0208      │ 0.005304             │ 15.3         │ 33.17         │ 100.2           │ 706.7      │ 0.1241           │ 0.2264            │ 0.1326          │ 0.1048               │ 0.225          │ 0.08321                 │ \u001b[90mmissing\u001b[39m  │\n",
       "│ 562 │ 925311   │ B         │ 11.2        │ 29.37        │ 70.67          │ 386.0     │ 0.07449         │ 0.03558          │ 0.0            │ 0.0                 │ 0.106         │ 0.05502                │ 0.3141    │ 3.896      │ 2.041        │ 22.81   │ 0.007594      │ 0.008878       │ 0.0          │ 0.0               │ 0.01989     │ 0.001773             │ 11.92        │ 38.3          │ 75.19           │ 439.6      │ 0.09267          │ 0.05494           │ 0.0             │ 0.0                  │ 0.1566         │ 0.05905                 │ \u001b[90mmissing\u001b[39m  │\n",
       "│ 563 │ 925622   │ M         │ 15.22       │ 30.62        │ 103.4          │ 716.9     │ 0.1048          │ 0.2087           │ 0.255          │ 0.09429             │ 0.2128        │ 0.07152                │ 0.2602    │ 1.205      │ 2.362        │ 22.65   │ 0.004625      │ 0.04844        │ 0.07359      │ 0.01608           │ 0.02137     │ 0.006142             │ 17.52        │ 42.79         │ 128.7           │ 915.0      │ 0.1417           │ 0.7917            │ 1.17            │ 0.2356               │ 0.4089         │ 0.1409                  │ \u001b[90mmissing\u001b[39m  │\n",
       "│ 564 │ 926125   │ M         │ 20.92       │ 25.09        │ 143.0          │ 1347.0    │ 0.1099          │ 0.2236           │ 0.3174         │ 0.1474              │ 0.2149        │ 0.06879                │ 0.9622    │ 1.026      │ 8.758        │ 118.8   │ 0.006399      │ 0.0431         │ 0.07845      │ 0.02624           │ 0.02057     │ 0.006213             │ 24.29        │ 29.41         │ 179.1           │ 1819.0     │ 0.1407           │ 0.4186            │ 0.6599          │ 0.2542               │ 0.2929         │ 0.09873                 │ \u001b[90mmissing\u001b[39m  │\n",
       "│ 565 │ 926424   │ M         │ 21.56       │ 22.39        │ 142.0          │ 1479.0    │ 0.111           │ 0.1159           │ 0.2439         │ 0.1389              │ 0.1726        │ 0.05623                │ 1.176     │ 1.256      │ 7.673        │ 158.7   │ 0.0103        │ 0.02891        │ 0.05198      │ 0.02454           │ 0.01114     │ 0.004239             │ 25.45        │ 26.4          │ 166.1           │ 2027.0     │ 0.141            │ 0.2113            │ 0.4107          │ 0.2216               │ 0.206          │ 0.07115                 │ \u001b[90mmissing\u001b[39m  │\n",
       "│ 566 │ 926682   │ M         │ 20.13       │ 28.25        │ 131.2          │ 1261.0    │ 0.0978          │ 0.1034           │ 0.144          │ 0.09791             │ 0.1752        │ 0.05533                │ 0.7655    │ 2.463      │ 5.203        │ 99.04   │ 0.005769      │ 0.02423        │ 0.0395       │ 0.01678           │ 0.01898     │ 0.002498             │ 23.69        │ 38.25         │ 155.0           │ 1731.0     │ 0.1166           │ 0.1922            │ 0.3215          │ 0.1628               │ 0.2572         │ 0.06637                 │ \u001b[90mmissing\u001b[39m  │\n",
       "│ 567 │ 926954   │ M         │ 16.6        │ 28.08        │ 108.3          │ 858.1     │ 0.08455         │ 0.1023           │ 0.09251        │ 0.05302             │ 0.159         │ 0.05648                │ 0.4564    │ 1.075      │ 3.425        │ 48.55   │ 0.005903      │ 0.03731        │ 0.0473       │ 0.01557           │ 0.01318     │ 0.003892             │ 18.98        │ 34.12         │ 126.7           │ 1124.0     │ 0.1139           │ 0.3094            │ 0.3403          │ 0.1418               │ 0.2218         │ 0.0782                  │ \u001b[90mmissing\u001b[39m  │\n",
       "│ 568 │ 927241   │ M         │ 20.6        │ 29.33        │ 140.1          │ 1265.0    │ 0.1178          │ 0.277            │ 0.3514         │ 0.152               │ 0.2397        │ 0.07016                │ 0.726     │ 1.595      │ 5.772        │ 86.22   │ 0.006522      │ 0.06158        │ 0.07117      │ 0.01664           │ 0.02324     │ 0.006185             │ 25.74        │ 39.42         │ 184.6           │ 1821.0     │ 0.165            │ 0.8681            │ 0.9387          │ 0.265                │ 0.4087         │ 0.124                   │ \u001b[90mmissing\u001b[39m  │\n",
       "│ 569 │ 92751    │ B         │ 7.76        │ 24.54        │ 47.92          │ 181.0     │ 0.05263         │ 0.04362          │ 0.0            │ 0.0                 │ 0.1587        │ 0.05884                │ 0.3857    │ 1.428      │ 2.548        │ 19.15   │ 0.007189      │ 0.00466        │ 0.0          │ 0.0               │ 0.02676     │ 0.002783             │ 9.456        │ 30.37         │ 59.16           │ 268.6      │ 0.08996          │ 0.06444           │ 0.0             │ 0.0                  │ 0.2871         │ 0.07039                 │ \u001b[90mmissing\u001b[39m  │"
      ]
     },
     "execution_count": 2,
     "metadata": {},
     "output_type": "execute_result"
    }
   ],
   "source": [
    "#Read the file using CSV.file and convert it to DataFrame\n",
    "df = DataFrame(CSV.File(\"data.csv\"))"
   ]
  },
  {
   "cell_type": "markdown",
   "metadata": {},
   "source": [
    "# Summary of Dataset"
   ]
  },
  {
   "cell_type": "code",
   "execution_count": 3,
   "metadata": {},
   "outputs": [
    {
     "name": "stdout",
     "output_type": "stream",
     "text": [
      "(569, 33)\n"
     ]
    },
    {
     "data": {
      "text/html": [
       "<table class=\"data-frame\"><thead><tr><th></th><th>variable</th><th>mean</th><th>min</th><th>median</th><th>max</th><th>nunique</th><th>nmissing</th><th>eltype</th></tr><tr><th></th><th>Symbol</th><th>Union…</th><th>Any</th><th>Union…</th><th>Any</th><th>Union…</th><th>Union…</th><th>DataType</th></tr></thead><tbody><p>33 rows × 8 columns</p><tr><th>1</th><td>id</td><td>3.03718e7</td><td>8670</td><td>906024.0</td><td>911320502</td><td></td><td></td><td>Int64</td></tr><tr><th>2</th><td>diagnosis</td><td></td><td>B</td><td></td><td>M</td><td>2</td><td></td><td>String</td></tr><tr><th>3</th><td>radius_mean</td><td>14.1273</td><td>6.981</td><td>13.37</td><td>28.11</td><td></td><td></td><td>Float64</td></tr><tr><th>4</th><td>texture_mean</td><td>19.2896</td><td>9.71</td><td>18.84</td><td>39.28</td><td></td><td></td><td>Float64</td></tr><tr><th>5</th><td>perimeter_mean</td><td>91.969</td><td>43.79</td><td>86.24</td><td>188.5</td><td></td><td></td><td>Float64</td></tr><tr><th>6</th><td>area_mean</td><td>654.889</td><td>143.5</td><td>551.1</td><td>2501.0</td><td></td><td></td><td>Float64</td></tr><tr><th>7</th><td>smoothness_mean</td><td>0.0963603</td><td>0.05263</td><td>0.09587</td><td>0.1634</td><td></td><td></td><td>Float64</td></tr><tr><th>8</th><td>compactness_mean</td><td>0.104341</td><td>0.01938</td><td>0.09263</td><td>0.3454</td><td></td><td></td><td>Float64</td></tr><tr><th>9</th><td>concavity_mean</td><td>0.0887993</td><td>0.0</td><td>0.06154</td><td>0.4268</td><td></td><td></td><td>Float64</td></tr><tr><th>10</th><td>concave points_mean</td><td>0.0489191</td><td>0.0</td><td>0.0335</td><td>0.2012</td><td></td><td></td><td>Float64</td></tr><tr><th>11</th><td>symmetry_mean</td><td>0.181162</td><td>0.106</td><td>0.1792</td><td>0.304</td><td></td><td></td><td>Float64</td></tr><tr><th>12</th><td>fractal_dimension_mean</td><td>0.0627976</td><td>0.04996</td><td>0.06154</td><td>0.09744</td><td></td><td></td><td>Float64</td></tr><tr><th>13</th><td>radius_se</td><td>0.405172</td><td>0.1115</td><td>0.3242</td><td>2.873</td><td></td><td></td><td>Float64</td></tr><tr><th>14</th><td>texture_se</td><td>1.21685</td><td>0.3602</td><td>1.108</td><td>4.885</td><td></td><td></td><td>Float64</td></tr><tr><th>15</th><td>perimeter_se</td><td>2.86606</td><td>0.757</td><td>2.287</td><td>21.98</td><td></td><td></td><td>Float64</td></tr><tr><th>16</th><td>area_se</td><td>40.3371</td><td>6.802</td><td>24.53</td><td>542.2</td><td></td><td></td><td>Float64</td></tr><tr><th>17</th><td>smoothness_se</td><td>0.00704098</td><td>0.001713</td><td>0.00638</td><td>0.03113</td><td></td><td></td><td>Float64</td></tr><tr><th>18</th><td>compactness_se</td><td>0.0254781</td><td>0.002252</td><td>0.02045</td><td>0.1354</td><td></td><td></td><td>Float64</td></tr><tr><th>19</th><td>concavity_se</td><td>0.0318937</td><td>0.0</td><td>0.02589</td><td>0.396</td><td></td><td></td><td>Float64</td></tr><tr><th>20</th><td>concave points_se</td><td>0.0117961</td><td>0.0</td><td>0.01093</td><td>0.05279</td><td></td><td></td><td>Float64</td></tr><tr><th>21</th><td>symmetry_se</td><td>0.0205423</td><td>0.007882</td><td>0.01873</td><td>0.07895</td><td></td><td></td><td>Float64</td></tr><tr><th>22</th><td>fractal_dimension_se</td><td>0.0037949</td><td>0.0008948</td><td>0.003187</td><td>0.02984</td><td></td><td></td><td>Float64</td></tr><tr><th>23</th><td>radius_worst</td><td>16.2692</td><td>7.93</td><td>14.97</td><td>36.04</td><td></td><td></td><td>Float64</td></tr><tr><th>24</th><td>texture_worst</td><td>25.6772</td><td>12.02</td><td>25.41</td><td>49.54</td><td></td><td></td><td>Float64</td></tr><tr><th>25</th><td>perimeter_worst</td><td>107.261</td><td>50.41</td><td>97.66</td><td>251.2</td><td></td><td></td><td>Float64</td></tr><tr><th>26</th><td>area_worst</td><td>880.583</td><td>185.2</td><td>686.5</td><td>4254.0</td><td></td><td></td><td>Float64</td></tr><tr><th>27</th><td>smoothness_worst</td><td>0.132369</td><td>0.07117</td><td>0.1313</td><td>0.2226</td><td></td><td></td><td>Float64</td></tr><tr><th>28</th><td>compactness_worst</td><td>0.254265</td><td>0.02729</td><td>0.2119</td><td>1.058</td><td></td><td></td><td>Float64</td></tr><tr><th>29</th><td>concavity_worst</td><td>0.272188</td><td>0.0</td><td>0.2267</td><td>1.252</td><td></td><td></td><td>Float64</td></tr><tr><th>30</th><td>concave points_worst</td><td>0.114606</td><td>0.0</td><td>0.09993</td><td>0.291</td><td></td><td></td><td>Float64</td></tr><tr><th>&vellip;</th><td>&vellip;</td><td>&vellip;</td><td>&vellip;</td><td>&vellip;</td><td>&vellip;</td><td>&vellip;</td><td>&vellip;</td><td>&vellip;</td></tr></tbody></table>"
      ],
      "text/latex": [
       "\\begin{tabular}{r|cccccccc}\n",
       "\t& variable & mean & min & median & max & nunique & nmissing & eltype\\\\\n",
       "\t\\hline\n",
       "\t& Symbol & Union… & Any & Union… & Any & Union… & Union… & DataType\\\\\n",
       "\t\\hline\n",
       "\t1 & id & 3.03718e7 & 8670 & 906024.0 & 911320502 &  &  & Int64 \\\\\n",
       "\t2 & diagnosis &  & B &  & M & 2 &  & String \\\\\n",
       "\t3 & radius\\_mean & 14.1273 & 6.981 & 13.37 & 28.11 &  &  & Float64 \\\\\n",
       "\t4 & texture\\_mean & 19.2896 & 9.71 & 18.84 & 39.28 &  &  & Float64 \\\\\n",
       "\t5 & perimeter\\_mean & 91.969 & 43.79 & 86.24 & 188.5 &  &  & Float64 \\\\\n",
       "\t6 & area\\_mean & 654.889 & 143.5 & 551.1 & 2501.0 &  &  & Float64 \\\\\n",
       "\t7 & smoothness\\_mean & 0.0963603 & 0.05263 & 0.09587 & 0.1634 &  &  & Float64 \\\\\n",
       "\t8 & compactness\\_mean & 0.104341 & 0.01938 & 0.09263 & 0.3454 &  &  & Float64 \\\\\n",
       "\t9 & concavity\\_mean & 0.0887993 & 0.0 & 0.06154 & 0.4268 &  &  & Float64 \\\\\n",
       "\t10 & concave points\\_mean & 0.0489191 & 0.0 & 0.0335 & 0.2012 &  &  & Float64 \\\\\n",
       "\t11 & symmetry\\_mean & 0.181162 & 0.106 & 0.1792 & 0.304 &  &  & Float64 \\\\\n",
       "\t12 & fractal\\_dimension\\_mean & 0.0627976 & 0.04996 & 0.06154 & 0.09744 &  &  & Float64 \\\\\n",
       "\t13 & radius\\_se & 0.405172 & 0.1115 & 0.3242 & 2.873 &  &  & Float64 \\\\\n",
       "\t14 & texture\\_se & 1.21685 & 0.3602 & 1.108 & 4.885 &  &  & Float64 \\\\\n",
       "\t15 & perimeter\\_se & 2.86606 & 0.757 & 2.287 & 21.98 &  &  & Float64 \\\\\n",
       "\t16 & area\\_se & 40.3371 & 6.802 & 24.53 & 542.2 &  &  & Float64 \\\\\n",
       "\t17 & smoothness\\_se & 0.00704098 & 0.001713 & 0.00638 & 0.03113 &  &  & Float64 \\\\\n",
       "\t18 & compactness\\_se & 0.0254781 & 0.002252 & 0.02045 & 0.1354 &  &  & Float64 \\\\\n",
       "\t19 & concavity\\_se & 0.0318937 & 0.0 & 0.02589 & 0.396 &  &  & Float64 \\\\\n",
       "\t20 & concave points\\_se & 0.0117961 & 0.0 & 0.01093 & 0.05279 &  &  & Float64 \\\\\n",
       "\t21 & symmetry\\_se & 0.0205423 & 0.007882 & 0.01873 & 0.07895 &  &  & Float64 \\\\\n",
       "\t22 & fractal\\_dimension\\_se & 0.0037949 & 0.0008948 & 0.003187 & 0.02984 &  &  & Float64 \\\\\n",
       "\t23 & radius\\_worst & 16.2692 & 7.93 & 14.97 & 36.04 &  &  & Float64 \\\\\n",
       "\t24 & texture\\_worst & 25.6772 & 12.02 & 25.41 & 49.54 &  &  & Float64 \\\\\n",
       "\t25 & perimeter\\_worst & 107.261 & 50.41 & 97.66 & 251.2 &  &  & Float64 \\\\\n",
       "\t26 & area\\_worst & 880.583 & 185.2 & 686.5 & 4254.0 &  &  & Float64 \\\\\n",
       "\t27 & smoothness\\_worst & 0.132369 & 0.07117 & 0.1313 & 0.2226 &  &  & Float64 \\\\\n",
       "\t28 & compactness\\_worst & 0.254265 & 0.02729 & 0.2119 & 1.058 &  &  & Float64 \\\\\n",
       "\t29 & concavity\\_worst & 0.272188 & 0.0 & 0.2267 & 1.252 &  &  & Float64 \\\\\n",
       "\t30 & concave points\\_worst & 0.114606 & 0.0 & 0.09993 & 0.291 &  &  & Float64 \\\\\n",
       "\t$\\dots$ & $\\dots$ & $\\dots$ & $\\dots$ & $\\dots$ & $\\dots$ & $\\dots$ & $\\dots$ & $\\dots$ \\\\\n",
       "\\end{tabular}\n"
      ],
      "text/plain": [
       "33×8 typename(DataFrame)\n",
       "│ Row │ variable                │ mean      │ min     │ median   │ max       │ nunique │ nmissing │ eltype   │\n",
       "│     │ \u001b[90mSymbol\u001b[39m                  │ \u001b[90mUnion…\u001b[39m    │ \u001b[90mAny\u001b[39m     │ \u001b[90mUnion…\u001b[39m   │ \u001b[90mAny\u001b[39m       │ \u001b[90mUnion…\u001b[39m  │ \u001b[90mUnion…\u001b[39m   │ \u001b[90mDataType\u001b[39m │\n",
       "├─────┼─────────────────────────┼───────────┼─────────┼──────────┼───────────┼─────────┼──────────┼──────────┤\n",
       "│ 1   │ id                      │ 3.03718e7 │ 8670    │ 906024.0 │ 911320502 │         │          │ Int64    │\n",
       "│ 2   │ diagnosis               │           │ B       │          │ M         │ 2       │          │ String   │\n",
       "│ 3   │ radius_mean             │ 14.1273   │ 6.981   │ 13.37    │ 28.11     │         │          │ Float64  │\n",
       "│ 4   │ texture_mean            │ 19.2896   │ 9.71    │ 18.84    │ 39.28     │         │          │ Float64  │\n",
       "│ 5   │ perimeter_mean          │ 91.969    │ 43.79   │ 86.24    │ 188.5     │         │          │ Float64  │\n",
       "│ 6   │ area_mean               │ 654.889   │ 143.5   │ 551.1    │ 2501.0    │         │          │ Float64  │\n",
       "│ 7   │ smoothness_mean         │ 0.0963603 │ 0.05263 │ 0.09587  │ 0.1634    │         │          │ Float64  │\n",
       "│ 8   │ compactness_mean        │ 0.104341  │ 0.01938 │ 0.09263  │ 0.3454    │         │          │ Float64  │\n",
       "│ 9   │ concavity_mean          │ 0.0887993 │ 0.0     │ 0.06154  │ 0.4268    │         │          │ Float64  │\n",
       "│ 10  │ concave points_mean     │ 0.0489191 │ 0.0     │ 0.0335   │ 0.2012    │         │          │ Float64  │\n",
       "⋮\n",
       "│ 23  │ radius_worst            │ 16.2692   │ 7.93    │ 14.97    │ 36.04     │         │          │ Float64  │\n",
       "│ 24  │ texture_worst           │ 25.6772   │ 12.02   │ 25.41    │ 49.54     │         │          │ Float64  │\n",
       "│ 25  │ perimeter_worst         │ 107.261   │ 50.41   │ 97.66    │ 251.2     │         │          │ Float64  │\n",
       "│ 26  │ area_worst              │ 880.583   │ 185.2   │ 686.5    │ 4254.0    │         │          │ Float64  │\n",
       "│ 27  │ smoothness_worst        │ 0.132369  │ 0.07117 │ 0.1313   │ 0.2226    │         │          │ Float64  │\n",
       "│ 28  │ compactness_worst       │ 0.254265  │ 0.02729 │ 0.2119   │ 1.058     │         │          │ Float64  │\n",
       "│ 29  │ concavity_worst         │ 0.272188  │ 0.0     │ 0.2267   │ 1.252     │         │          │ Float64  │\n",
       "│ 30  │ concave points_worst    │ 0.114606  │ 0.0     │ 0.09993  │ 0.291     │         │          │ Float64  │\n",
       "│ 31  │ symmetry_worst          │ 0.290076  │ 0.1565  │ 0.2822   │ 0.6638    │         │          │ Float64  │\n",
       "│ 32  │ fractal_dimension_worst │ 0.0839458 │ 0.05504 │ 0.08004  │ 0.2075    │         │          │ Float64  │\n",
       "│ 33  │ Column33                │           │         │          │           │         │ 569      │ Missing  │"
      ]
     },
     "execution_count": 3,
     "metadata": {},
     "output_type": "execute_result"
    }
   ],
   "source": [
    "println(size(df))\n",
    "describe(df)"
   ]
  },
  {
   "cell_type": "markdown",
   "metadata": {},
   "source": [
    "# Checking Column Names"
   ]
  },
  {
   "cell_type": "code",
   "execution_count": 4,
   "metadata": {},
   "outputs": [
    {
     "data": {
      "text/plain": [
       "33-element Vector{Symbol}:\n",
       " :id\n",
       " :diagnosis\n",
       " :radius_mean\n",
       " :texture_mean\n",
       " :perimeter_mean\n",
       " :area_mean\n",
       " :smoothness_mean\n",
       " :compactness_mean\n",
       " :concavity_mean\n",
       " Symbol(\"concave points_mean\")\n",
       " :symmetry_mean\n",
       " :fractal_dimension_mean\n",
       " :radius_se\n",
       " ⋮\n",
       " :fractal_dimension_se\n",
       " :radius_worst\n",
       " :texture_worst\n",
       " :perimeter_worst\n",
       " :area_worst\n",
       " :smoothness_worst\n",
       " :compactness_worst\n",
       " :concavity_worst\n",
       " Symbol(\"concave points_worst\")\n",
       " :symmetry_worst\n",
       " :fractal_dimension_worst\n",
       " :Column33"
      ]
     },
     "execution_count": 4,
     "metadata": {},
     "output_type": "execute_result"
    }
   ],
   "source": [
    "names(df)"
   ]
  },
  {
   "cell_type": "markdown",
   "metadata": {},
   "source": [
    "# One hot encoding"
   ]
  },
  {
   "cell_type": "code",
   "execution_count": 5,
   "metadata": {},
   "outputs": [
    {
     "data": {
      "text/html": [
       "<table class=\"data-frame\"><thead><tr><th></th><th>id</th><th>diagnosis</th><th>radius_mean</th><th>texture_mean</th><th>perimeter_mean</th><th>area_mean</th><th>smoothness_mean</th><th>compactness_mean</th><th>concavity_mean</th><th>concave points_mean</th><th>symmetry_mean</th><th>fractal_dimension_mean</th><th>radius_se</th><th>texture_se</th><th>perimeter_se</th><th>area_se</th><th>smoothness_se</th><th>compactness_se</th><th>concavity_se</th><th>concave points_se</th><th>symmetry_se</th><th>fractal_dimension_se</th><th>radius_worst</th><th>texture_worst</th><th>perimeter_worst</th><th>area_worst</th><th>smoothness_worst</th><th>compactness_worst</th><th>concavity_worst</th><th>concave points_worst</th><th>symmetry_worst</th><th>fractal_dimension_worst</th><th>Column33</th><th>M</th><th>B</th></tr><tr><th></th><th>Int64</th><th>String</th><th>Float64</th><th>Float64</th><th>Float64</th><th>Float64</th><th>Float64</th><th>Float64</th><th>Float64</th><th>Float64</th><th>Float64</th><th>Float64</th><th>Float64</th><th>Float64</th><th>Float64</th><th>Float64</th><th>Float64</th><th>Float64</th><th>Float64</th><th>Float64</th><th>Float64</th><th>Float64</th><th>Float64</th><th>Float64</th><th>Float64</th><th>Float64</th><th>Float64</th><th>Float64</th><th>Float64</th><th>Float64</th><th>Float64</th><th>Float64</th><th>Missing</th><th>Bool</th><th>Bool</th></tr></thead><tbody><p>5 rows × 35 columns</p><tr><th>1</th><td>842302</td><td>M</td><td>17.99</td><td>10.38</td><td>122.8</td><td>1001.0</td><td>0.1184</td><td>0.2776</td><td>0.3001</td><td>0.1471</td><td>0.2419</td><td>0.07871</td><td>1.095</td><td>0.9053</td><td>8.589</td><td>153.4</td><td>0.006399</td><td>0.04904</td><td>0.05373</td><td>0.01587</td><td>0.03003</td><td>0.006193</td><td>25.38</td><td>17.33</td><td>184.6</td><td>2019.0</td><td>0.1622</td><td>0.6656</td><td>0.7119</td><td>0.2654</td><td>0.4601</td><td>0.1189</td><td>missing</td><td>1</td><td>0</td></tr><tr><th>2</th><td>842517</td><td>M</td><td>20.57</td><td>17.77</td><td>132.9</td><td>1326.0</td><td>0.08474</td><td>0.07864</td><td>0.0869</td><td>0.07017</td><td>0.1812</td><td>0.05667</td><td>0.5435</td><td>0.7339</td><td>3.398</td><td>74.08</td><td>0.005225</td><td>0.01308</td><td>0.0186</td><td>0.0134</td><td>0.01389</td><td>0.003532</td><td>24.99</td><td>23.41</td><td>158.8</td><td>1956.0</td><td>0.1238</td><td>0.1866</td><td>0.2416</td><td>0.186</td><td>0.275</td><td>0.08902</td><td>missing</td><td>1</td><td>0</td></tr><tr><th>3</th><td>84300903</td><td>M</td><td>19.69</td><td>21.25</td><td>130.0</td><td>1203.0</td><td>0.1096</td><td>0.1599</td><td>0.1974</td><td>0.1279</td><td>0.2069</td><td>0.05999</td><td>0.7456</td><td>0.7869</td><td>4.585</td><td>94.03</td><td>0.00615</td><td>0.04006</td><td>0.03832</td><td>0.02058</td><td>0.0225</td><td>0.004571</td><td>23.57</td><td>25.53</td><td>152.5</td><td>1709.0</td><td>0.1444</td><td>0.4245</td><td>0.4504</td><td>0.243</td><td>0.3613</td><td>0.08758</td><td>missing</td><td>1</td><td>0</td></tr><tr><th>4</th><td>84348301</td><td>M</td><td>11.42</td><td>20.38</td><td>77.58</td><td>386.1</td><td>0.1425</td><td>0.2839</td><td>0.2414</td><td>0.1052</td><td>0.2597</td><td>0.09744</td><td>0.4956</td><td>1.156</td><td>3.445</td><td>27.23</td><td>0.00911</td><td>0.07458</td><td>0.05661</td><td>0.01867</td><td>0.05963</td><td>0.009208</td><td>14.91</td><td>26.5</td><td>98.87</td><td>567.7</td><td>0.2098</td><td>0.8663</td><td>0.6869</td><td>0.2575</td><td>0.6638</td><td>0.173</td><td>missing</td><td>1</td><td>0</td></tr><tr><th>5</th><td>84358402</td><td>M</td><td>20.29</td><td>14.34</td><td>135.1</td><td>1297.0</td><td>0.1003</td><td>0.1328</td><td>0.198</td><td>0.1043</td><td>0.1809</td><td>0.05883</td><td>0.7572</td><td>0.7813</td><td>5.438</td><td>94.44</td><td>0.01149</td><td>0.02461</td><td>0.05688</td><td>0.01885</td><td>0.01756</td><td>0.005115</td><td>22.54</td><td>16.67</td><td>152.2</td><td>1575.0</td><td>0.1374</td><td>0.205</td><td>0.4</td><td>0.1625</td><td>0.2364</td><td>0.07678</td><td>missing</td><td>1</td><td>0</td></tr></tbody></table>"
      ],
      "text/latex": [
       "\\begin{tabular}{r|ccccccccccccccccccccccccccccccccccc}\n",
       "\t& id & diagnosis & radius\\_mean & texture\\_mean & perimeter\\_mean & area\\_mean & smoothness\\_mean & compactness\\_mean & concavity\\_mean & concave points\\_mean & symmetry\\_mean & fractal\\_dimension\\_mean & radius\\_se & texture\\_se & perimeter\\_se & area\\_se & smoothness\\_se & compactness\\_se & concavity\\_se & concave points\\_se & symmetry\\_se & fractal\\_dimension\\_se & radius\\_worst & texture\\_worst & perimeter\\_worst & area\\_worst & smoothness\\_worst & compactness\\_worst & concavity\\_worst & concave points\\_worst & symmetry\\_worst & fractal\\_dimension\\_worst & Column33 & M & B\\\\\n",
       "\t\\hline\n",
       "\t& Int64 & String & Float64 & Float64 & Float64 & Float64 & Float64 & Float64 & Float64 & Float64 & Float64 & Float64 & Float64 & Float64 & Float64 & Float64 & Float64 & Float64 & Float64 & Float64 & Float64 & Float64 & Float64 & Float64 & Float64 & Float64 & Float64 & Float64 & Float64 & Float64 & Float64 & Float64 & Missing & Bool & Bool\\\\\n",
       "\t\\hline\n",
       "\t1 & 842302 & M & 17.99 & 10.38 & 122.8 & 1001.0 & 0.1184 & 0.2776 & 0.3001 & 0.1471 & 0.2419 & 0.07871 & 1.095 & 0.9053 & 8.589 & 153.4 & 0.006399 & 0.04904 & 0.05373 & 0.01587 & 0.03003 & 0.006193 & 25.38 & 17.33 & 184.6 & 2019.0 & 0.1622 & 0.6656 & 0.7119 & 0.2654 & 0.4601 & 0.1189 &  & 1 & 0 \\\\\n",
       "\t2 & 842517 & M & 20.57 & 17.77 & 132.9 & 1326.0 & 0.08474 & 0.07864 & 0.0869 & 0.07017 & 0.1812 & 0.05667 & 0.5435 & 0.7339 & 3.398 & 74.08 & 0.005225 & 0.01308 & 0.0186 & 0.0134 & 0.01389 & 0.003532 & 24.99 & 23.41 & 158.8 & 1956.0 & 0.1238 & 0.1866 & 0.2416 & 0.186 & 0.275 & 0.08902 &  & 1 & 0 \\\\\n",
       "\t3 & 84300903 & M & 19.69 & 21.25 & 130.0 & 1203.0 & 0.1096 & 0.1599 & 0.1974 & 0.1279 & 0.2069 & 0.05999 & 0.7456 & 0.7869 & 4.585 & 94.03 & 0.00615 & 0.04006 & 0.03832 & 0.02058 & 0.0225 & 0.004571 & 23.57 & 25.53 & 152.5 & 1709.0 & 0.1444 & 0.4245 & 0.4504 & 0.243 & 0.3613 & 0.08758 &  & 1 & 0 \\\\\n",
       "\t4 & 84348301 & M & 11.42 & 20.38 & 77.58 & 386.1 & 0.1425 & 0.2839 & 0.2414 & 0.1052 & 0.2597 & 0.09744 & 0.4956 & 1.156 & 3.445 & 27.23 & 0.00911 & 0.07458 & 0.05661 & 0.01867 & 0.05963 & 0.009208 & 14.91 & 26.5 & 98.87 & 567.7 & 0.2098 & 0.8663 & 0.6869 & 0.2575 & 0.6638 & 0.173 &  & 1 & 0 \\\\\n",
       "\t5 & 84358402 & M & 20.29 & 14.34 & 135.1 & 1297.0 & 0.1003 & 0.1328 & 0.198 & 0.1043 & 0.1809 & 0.05883 & 0.7572 & 0.7813 & 5.438 & 94.44 & 0.01149 & 0.02461 & 0.05688 & 0.01885 & 0.01756 & 0.005115 & 22.54 & 16.67 & 152.2 & 1575.0 & 0.1374 & 0.205 & 0.4 & 0.1625 & 0.2364 & 0.07678 &  & 1 & 0 \\\\\n",
       "\\end{tabular}\n"
      ],
      "text/plain": [
       "5×35 typename(DataFrame)\n",
       "│ Row │ id       │ diagnosis │ radius_mean │ texture_mean │ perimeter_mean │ area_mean │ smoothness_mean │ compactness_mean │ concavity_mean │ concave points_mean │ symmetry_mean │ fractal_dimension_mean │ radius_se │ texture_se │ perimeter_se │ area_se │ smoothness_se │ compactness_se │ concavity_se │ concave points_se │ symmetry_se │ fractal_dimension_se │ radius_worst │ texture_worst │ perimeter_worst │ area_worst │ smoothness_worst │ compactness_worst │ concavity_worst │ concave points_worst │ symmetry_worst │ fractal_dimension_worst │ Column33 │ M    │ B    │\n",
       "│     │ \u001b[90mInt64\u001b[39m    │ \u001b[90mString\u001b[39m    │ \u001b[90mFloat64\u001b[39m     │ \u001b[90mFloat64\u001b[39m      │ \u001b[90mFloat64\u001b[39m        │ \u001b[90mFloat64\u001b[39m   │ \u001b[90mFloat64\u001b[39m         │ \u001b[90mFloat64\u001b[39m          │ \u001b[90mFloat64\u001b[39m        │ \u001b[90mFloat64\u001b[39m             │ \u001b[90mFloat64\u001b[39m       │ \u001b[90mFloat64\u001b[39m                │ \u001b[90mFloat64\u001b[39m   │ \u001b[90mFloat64\u001b[39m    │ \u001b[90mFloat64\u001b[39m      │ \u001b[90mFloat64\u001b[39m │ \u001b[90mFloat64\u001b[39m       │ \u001b[90mFloat64\u001b[39m        │ \u001b[90mFloat64\u001b[39m      │ \u001b[90mFloat64\u001b[39m           │ \u001b[90mFloat64\u001b[39m     │ \u001b[90mFloat64\u001b[39m              │ \u001b[90mFloat64\u001b[39m      │ \u001b[90mFloat64\u001b[39m       │ \u001b[90mFloat64\u001b[39m         │ \u001b[90mFloat64\u001b[39m    │ \u001b[90mFloat64\u001b[39m          │ \u001b[90mFloat64\u001b[39m           │ \u001b[90mFloat64\u001b[39m         │ \u001b[90mFloat64\u001b[39m              │ \u001b[90mFloat64\u001b[39m        │ \u001b[90mFloat64\u001b[39m                 │ \u001b[90mMissing\u001b[39m  │ \u001b[90mBool\u001b[39m │ \u001b[90mBool\u001b[39m │\n",
       "├─────┼──────────┼───────────┼─────────────┼──────────────┼────────────────┼───────────┼─────────────────┼──────────────────┼────────────────┼─────────────────────┼───────────────┼────────────────────────┼───────────┼────────────┼──────────────┼─────────┼───────────────┼────────────────┼──────────────┼───────────────────┼─────────────┼──────────────────────┼──────────────┼───────────────┼─────────────────┼────────────┼──────────────────┼───────────────────┼─────────────────┼──────────────────────┼────────────────┼─────────────────────────┼──────────┼──────┼──────┤\n",
       "│ 1   │ 842302   │ M         │ 17.99       │ 10.38        │ 122.8          │ 1001.0    │ 0.1184          │ 0.2776           │ 0.3001         │ 0.1471              │ 0.2419        │ 0.07871                │ 1.095     │ 0.9053     │ 8.589        │ 153.4   │ 0.006399      │ 0.04904        │ 0.05373      │ 0.01587           │ 0.03003     │ 0.006193             │ 25.38        │ 17.33         │ 184.6           │ 2019.0     │ 0.1622           │ 0.6656            │ 0.7119          │ 0.2654               │ 0.4601         │ 0.1189                  │ \u001b[90mmissing\u001b[39m  │ 1    │ 0    │\n",
       "│ 2   │ 842517   │ M         │ 20.57       │ 17.77        │ 132.9          │ 1326.0    │ 0.08474         │ 0.07864          │ 0.0869         │ 0.07017             │ 0.1812        │ 0.05667                │ 0.5435    │ 0.7339     │ 3.398        │ 74.08   │ 0.005225      │ 0.01308        │ 0.0186       │ 0.0134            │ 0.01389     │ 0.003532             │ 24.99        │ 23.41         │ 158.8           │ 1956.0     │ 0.1238           │ 0.1866            │ 0.2416          │ 0.186                │ 0.275          │ 0.08902                 │ \u001b[90mmissing\u001b[39m  │ 1    │ 0    │\n",
       "│ 3   │ 84300903 │ M         │ 19.69       │ 21.25        │ 130.0          │ 1203.0    │ 0.1096          │ 0.1599           │ 0.1974         │ 0.1279              │ 0.2069        │ 0.05999                │ 0.7456    │ 0.7869     │ 4.585        │ 94.03   │ 0.00615       │ 0.04006        │ 0.03832      │ 0.02058           │ 0.0225      │ 0.004571             │ 23.57        │ 25.53         │ 152.5           │ 1709.0     │ 0.1444           │ 0.4245            │ 0.4504          │ 0.243                │ 0.3613         │ 0.08758                 │ \u001b[90mmissing\u001b[39m  │ 1    │ 0    │\n",
       "│ 4   │ 84348301 │ M         │ 11.42       │ 20.38        │ 77.58          │ 386.1     │ 0.1425          │ 0.2839           │ 0.2414         │ 0.1052              │ 0.2597        │ 0.09744                │ 0.4956    │ 1.156      │ 3.445        │ 27.23   │ 0.00911       │ 0.07458        │ 0.05661      │ 0.01867           │ 0.05963     │ 0.009208             │ 14.91        │ 26.5          │ 98.87           │ 567.7      │ 0.2098           │ 0.8663            │ 0.6869          │ 0.2575               │ 0.6638         │ 0.173                   │ \u001b[90mmissing\u001b[39m  │ 1    │ 0    │\n",
       "│ 5   │ 84358402 │ M         │ 20.29       │ 14.34        │ 135.1          │ 1297.0    │ 0.1003          │ 0.1328           │ 0.198          │ 0.1043              │ 0.1809        │ 0.05883                │ 0.7572    │ 0.7813     │ 5.438        │ 94.44   │ 0.01149       │ 0.02461        │ 0.05688      │ 0.01885           │ 0.01756     │ 0.005115             │ 22.54        │ 16.67         │ 152.2           │ 1575.0     │ 0.1374           │ 0.205             │ 0.4             │ 0.1625               │ 0.2364         │ 0.07678                 │ \u001b[90mmissing\u001b[39m  │ 1    │ 0    │"
      ]
     },
     "execution_count": 5,
     "metadata": {},
     "output_type": "execute_result"
    }
   ],
   "source": [
    "Lathe.preprocess.OneHotEncode(df, :diagnosis)\n",
    "first(df, 5)"
   ]
  },
  {
   "cell_type": "code",
   "execution_count": 6,
   "metadata": {},
   "outputs": [
    {
     "data": {
      "text/html": [
       "<table class=\"data-frame\"><thead><tr><th></th><th>radius_mean</th><th>texture_mean</th><th>perimeter_mean</th><th>area_mean</th><th>smoothness_mean</th><th>compactness_mean</th><th>concavity_mean</th><th>concave points_mean</th><th>symmetry_mean</th><th>fractal_dimension_mean</th><th>radius_se</th><th>texture_se</th><th>perimeter_se</th><th>area_se</th><th>smoothness_se</th><th>compactness_se</th><th>concavity_se</th><th>concave points_se</th><th>symmetry_se</th><th>fractal_dimension_se</th><th>radius_worst</th><th>texture_worst</th><th>perimeter_worst</th><th>area_worst</th><th>smoothness_worst</th><th>compactness_worst</th><th>concavity_worst</th><th>concave points_worst</th><th>symmetry_worst</th><th>fractal_dimension_worst</th><th>M</th></tr><tr><th></th><th>Float64</th><th>Float64</th><th>Float64</th><th>Float64</th><th>Float64</th><th>Float64</th><th>Float64</th><th>Float64</th><th>Float64</th><th>Float64</th><th>Float64</th><th>Float64</th><th>Float64</th><th>Float64</th><th>Float64</th><th>Float64</th><th>Float64</th><th>Float64</th><th>Float64</th><th>Float64</th><th>Float64</th><th>Float64</th><th>Float64</th><th>Float64</th><th>Float64</th><th>Float64</th><th>Float64</th><th>Float64</th><th>Float64</th><th>Float64</th><th>Bool</th></tr></thead><tbody><p>569 rows × 31 columns</p><tr><th>1</th><td>17.99</td><td>10.38</td><td>122.8</td><td>1001.0</td><td>0.1184</td><td>0.2776</td><td>0.3001</td><td>0.1471</td><td>0.2419</td><td>0.07871</td><td>1.095</td><td>0.9053</td><td>8.589</td><td>153.4</td><td>0.006399</td><td>0.04904</td><td>0.05373</td><td>0.01587</td><td>0.03003</td><td>0.006193</td><td>25.38</td><td>17.33</td><td>184.6</td><td>2019.0</td><td>0.1622</td><td>0.6656</td><td>0.7119</td><td>0.2654</td><td>0.4601</td><td>0.1189</td><td>1</td></tr><tr><th>2</th><td>20.57</td><td>17.77</td><td>132.9</td><td>1326.0</td><td>0.08474</td><td>0.07864</td><td>0.0869</td><td>0.07017</td><td>0.1812</td><td>0.05667</td><td>0.5435</td><td>0.7339</td><td>3.398</td><td>74.08</td><td>0.005225</td><td>0.01308</td><td>0.0186</td><td>0.0134</td><td>0.01389</td><td>0.003532</td><td>24.99</td><td>23.41</td><td>158.8</td><td>1956.0</td><td>0.1238</td><td>0.1866</td><td>0.2416</td><td>0.186</td><td>0.275</td><td>0.08902</td><td>1</td></tr><tr><th>3</th><td>19.69</td><td>21.25</td><td>130.0</td><td>1203.0</td><td>0.1096</td><td>0.1599</td><td>0.1974</td><td>0.1279</td><td>0.2069</td><td>0.05999</td><td>0.7456</td><td>0.7869</td><td>4.585</td><td>94.03</td><td>0.00615</td><td>0.04006</td><td>0.03832</td><td>0.02058</td><td>0.0225</td><td>0.004571</td><td>23.57</td><td>25.53</td><td>152.5</td><td>1709.0</td><td>0.1444</td><td>0.4245</td><td>0.4504</td><td>0.243</td><td>0.3613</td><td>0.08758</td><td>1</td></tr><tr><th>4</th><td>11.42</td><td>20.38</td><td>77.58</td><td>386.1</td><td>0.1425</td><td>0.2839</td><td>0.2414</td><td>0.1052</td><td>0.2597</td><td>0.09744</td><td>0.4956</td><td>1.156</td><td>3.445</td><td>27.23</td><td>0.00911</td><td>0.07458</td><td>0.05661</td><td>0.01867</td><td>0.05963</td><td>0.009208</td><td>14.91</td><td>26.5</td><td>98.87</td><td>567.7</td><td>0.2098</td><td>0.8663</td><td>0.6869</td><td>0.2575</td><td>0.6638</td><td>0.173</td><td>1</td></tr><tr><th>5</th><td>20.29</td><td>14.34</td><td>135.1</td><td>1297.0</td><td>0.1003</td><td>0.1328</td><td>0.198</td><td>0.1043</td><td>0.1809</td><td>0.05883</td><td>0.7572</td><td>0.7813</td><td>5.438</td><td>94.44</td><td>0.01149</td><td>0.02461</td><td>0.05688</td><td>0.01885</td><td>0.01756</td><td>0.005115</td><td>22.54</td><td>16.67</td><td>152.2</td><td>1575.0</td><td>0.1374</td><td>0.205</td><td>0.4</td><td>0.1625</td><td>0.2364</td><td>0.07678</td><td>1</td></tr><tr><th>6</th><td>12.45</td><td>15.7</td><td>82.57</td><td>477.1</td><td>0.1278</td><td>0.17</td><td>0.1578</td><td>0.08089</td><td>0.2087</td><td>0.07613</td><td>0.3345</td><td>0.8902</td><td>2.217</td><td>27.19</td><td>0.00751</td><td>0.03345</td><td>0.03672</td><td>0.01137</td><td>0.02165</td><td>0.005082</td><td>15.47</td><td>23.75</td><td>103.4</td><td>741.6</td><td>0.1791</td><td>0.5249</td><td>0.5355</td><td>0.1741</td><td>0.3985</td><td>0.1244</td><td>1</td></tr><tr><th>7</th><td>18.25</td><td>19.98</td><td>119.6</td><td>1040.0</td><td>0.09463</td><td>0.109</td><td>0.1127</td><td>0.074</td><td>0.1794</td><td>0.05742</td><td>0.4467</td><td>0.7732</td><td>3.18</td><td>53.91</td><td>0.004314</td><td>0.01382</td><td>0.02254</td><td>0.01039</td><td>0.01369</td><td>0.002179</td><td>22.88</td><td>27.66</td><td>153.2</td><td>1606.0</td><td>0.1442</td><td>0.2576</td><td>0.3784</td><td>0.1932</td><td>0.3063</td><td>0.08368</td><td>1</td></tr><tr><th>8</th><td>13.71</td><td>20.83</td><td>90.2</td><td>577.9</td><td>0.1189</td><td>0.1645</td><td>0.09366</td><td>0.05985</td><td>0.2196</td><td>0.07451</td><td>0.5835</td><td>1.377</td><td>3.856</td><td>50.96</td><td>0.008805</td><td>0.03029</td><td>0.02488</td><td>0.01448</td><td>0.01486</td><td>0.005412</td><td>17.06</td><td>28.14</td><td>110.6</td><td>897.0</td><td>0.1654</td><td>0.3682</td><td>0.2678</td><td>0.1556</td><td>0.3196</td><td>0.1151</td><td>1</td></tr><tr><th>9</th><td>13.0</td><td>21.82</td><td>87.5</td><td>519.8</td><td>0.1273</td><td>0.1932</td><td>0.1859</td><td>0.09353</td><td>0.235</td><td>0.07389</td><td>0.3063</td><td>1.002</td><td>2.406</td><td>24.32</td><td>0.005731</td><td>0.03502</td><td>0.03553</td><td>0.01226</td><td>0.02143</td><td>0.003749</td><td>15.49</td><td>30.73</td><td>106.2</td><td>739.3</td><td>0.1703</td><td>0.5401</td><td>0.539</td><td>0.206</td><td>0.4378</td><td>0.1072</td><td>1</td></tr><tr><th>10</th><td>12.46</td><td>24.04</td><td>83.97</td><td>475.9</td><td>0.1186</td><td>0.2396</td><td>0.2273</td><td>0.08543</td><td>0.203</td><td>0.08243</td><td>0.2976</td><td>1.599</td><td>2.039</td><td>23.94</td><td>0.007149</td><td>0.07217</td><td>0.07743</td><td>0.01432</td><td>0.01789</td><td>0.01008</td><td>15.09</td><td>40.68</td><td>97.65</td><td>711.4</td><td>0.1853</td><td>1.058</td><td>1.105</td><td>0.221</td><td>0.4366</td><td>0.2075</td><td>1</td></tr><tr><th>11</th><td>16.02</td><td>23.24</td><td>102.7</td><td>797.8</td><td>0.08206</td><td>0.06669</td><td>0.03299</td><td>0.03323</td><td>0.1528</td><td>0.05697</td><td>0.3795</td><td>1.187</td><td>2.466</td><td>40.51</td><td>0.004029</td><td>0.009269</td><td>0.01101</td><td>0.007591</td><td>0.0146</td><td>0.003042</td><td>19.19</td><td>33.88</td><td>123.8</td><td>1150.0</td><td>0.1181</td><td>0.1551</td><td>0.1459</td><td>0.09975</td><td>0.2948</td><td>0.08452</td><td>1</td></tr><tr><th>12</th><td>15.78</td><td>17.89</td><td>103.6</td><td>781.0</td><td>0.0971</td><td>0.1292</td><td>0.09954</td><td>0.06606</td><td>0.1842</td><td>0.06082</td><td>0.5058</td><td>0.9849</td><td>3.564</td><td>54.16</td><td>0.005771</td><td>0.04061</td><td>0.02791</td><td>0.01282</td><td>0.02008</td><td>0.004144</td><td>20.42</td><td>27.28</td><td>136.5</td><td>1299.0</td><td>0.1396</td><td>0.5609</td><td>0.3965</td><td>0.181</td><td>0.3792</td><td>0.1048</td><td>1</td></tr><tr><th>13</th><td>19.17</td><td>24.8</td><td>132.4</td><td>1123.0</td><td>0.0974</td><td>0.2458</td><td>0.2065</td><td>0.1118</td><td>0.2397</td><td>0.078</td><td>0.9555</td><td>3.568</td><td>11.07</td><td>116.2</td><td>0.003139</td><td>0.08297</td><td>0.0889</td><td>0.0409</td><td>0.04484</td><td>0.01284</td><td>20.96</td><td>29.94</td><td>151.7</td><td>1332.0</td><td>0.1037</td><td>0.3903</td><td>0.3639</td><td>0.1767</td><td>0.3176</td><td>0.1023</td><td>1</td></tr><tr><th>14</th><td>15.85</td><td>23.95</td><td>103.7</td><td>782.7</td><td>0.08401</td><td>0.1002</td><td>0.09938</td><td>0.05364</td><td>0.1847</td><td>0.05338</td><td>0.4033</td><td>1.078</td><td>2.903</td><td>36.58</td><td>0.009769</td><td>0.03126</td><td>0.05051</td><td>0.01992</td><td>0.02981</td><td>0.003002</td><td>16.84</td><td>27.66</td><td>112.0</td><td>876.5</td><td>0.1131</td><td>0.1924</td><td>0.2322</td><td>0.1119</td><td>0.2809</td><td>0.06287</td><td>1</td></tr><tr><th>15</th><td>13.73</td><td>22.61</td><td>93.6</td><td>578.3</td><td>0.1131</td><td>0.2293</td><td>0.2128</td><td>0.08025</td><td>0.2069</td><td>0.07682</td><td>0.2121</td><td>1.169</td><td>2.061</td><td>19.21</td><td>0.006429</td><td>0.05936</td><td>0.05501</td><td>0.01628</td><td>0.01961</td><td>0.008093</td><td>15.03</td><td>32.01</td><td>108.8</td><td>697.7</td><td>0.1651</td><td>0.7725</td><td>0.6943</td><td>0.2208</td><td>0.3596</td><td>0.1431</td><td>1</td></tr><tr><th>16</th><td>14.54</td><td>27.54</td><td>96.73</td><td>658.8</td><td>0.1139</td><td>0.1595</td><td>0.1639</td><td>0.07364</td><td>0.2303</td><td>0.07077</td><td>0.37</td><td>1.033</td><td>2.879</td><td>32.55</td><td>0.005607</td><td>0.0424</td><td>0.04741</td><td>0.0109</td><td>0.01857</td><td>0.005466</td><td>17.46</td><td>37.13</td><td>124.1</td><td>943.2</td><td>0.1678</td><td>0.6577</td><td>0.7026</td><td>0.1712</td><td>0.4218</td><td>0.1341</td><td>1</td></tr><tr><th>17</th><td>14.68</td><td>20.13</td><td>94.74</td><td>684.5</td><td>0.09867</td><td>0.072</td><td>0.07395</td><td>0.05259</td><td>0.1586</td><td>0.05922</td><td>0.4727</td><td>1.24</td><td>3.195</td><td>45.4</td><td>0.005718</td><td>0.01162</td><td>0.01998</td><td>0.01109</td><td>0.0141</td><td>0.002085</td><td>19.07</td><td>30.88</td><td>123.4</td><td>1138.0</td><td>0.1464</td><td>0.1871</td><td>0.2914</td><td>0.1609</td><td>0.3029</td><td>0.08216</td><td>1</td></tr><tr><th>18</th><td>16.13</td><td>20.68</td><td>108.1</td><td>798.8</td><td>0.117</td><td>0.2022</td><td>0.1722</td><td>0.1028</td><td>0.2164</td><td>0.07356</td><td>0.5692</td><td>1.073</td><td>3.854</td><td>54.18</td><td>0.007026</td><td>0.02501</td><td>0.03188</td><td>0.01297</td><td>0.01689</td><td>0.004142</td><td>20.96</td><td>31.48</td><td>136.8</td><td>1315.0</td><td>0.1789</td><td>0.4233</td><td>0.4784</td><td>0.2073</td><td>0.3706</td><td>0.1142</td><td>1</td></tr><tr><th>19</th><td>19.81</td><td>22.15</td><td>130.0</td><td>1260.0</td><td>0.09831</td><td>0.1027</td><td>0.1479</td><td>0.09498</td><td>0.1582</td><td>0.05395</td><td>0.7582</td><td>1.017</td><td>5.865</td><td>112.4</td><td>0.006494</td><td>0.01893</td><td>0.03391</td><td>0.01521</td><td>0.01356</td><td>0.001997</td><td>27.32</td><td>30.88</td><td>186.8</td><td>2398.0</td><td>0.1512</td><td>0.315</td><td>0.5372</td><td>0.2388</td><td>0.2768</td><td>0.07615</td><td>1</td></tr><tr><th>20</th><td>13.54</td><td>14.36</td><td>87.46</td><td>566.3</td><td>0.09779</td><td>0.08129</td><td>0.06664</td><td>0.04781</td><td>0.1885</td><td>0.05766</td><td>0.2699</td><td>0.7886</td><td>2.058</td><td>23.56</td><td>0.008462</td><td>0.0146</td><td>0.02387</td><td>0.01315</td><td>0.0198</td><td>0.0023</td><td>15.11</td><td>19.26</td><td>99.7</td><td>711.2</td><td>0.144</td><td>0.1773</td><td>0.239</td><td>0.1288</td><td>0.2977</td><td>0.07259</td><td>0</td></tr><tr><th>21</th><td>13.08</td><td>15.71</td><td>85.63</td><td>520.0</td><td>0.1075</td><td>0.127</td><td>0.04568</td><td>0.0311</td><td>0.1967</td><td>0.06811</td><td>0.1852</td><td>0.7477</td><td>1.383</td><td>14.67</td><td>0.004097</td><td>0.01898</td><td>0.01698</td><td>0.00649</td><td>0.01678</td><td>0.002425</td><td>14.5</td><td>20.49</td><td>96.09</td><td>630.5</td><td>0.1312</td><td>0.2776</td><td>0.189</td><td>0.07283</td><td>0.3184</td><td>0.08183</td><td>0</td></tr><tr><th>22</th><td>9.504</td><td>12.44</td><td>60.34</td><td>273.9</td><td>0.1024</td><td>0.06492</td><td>0.02956</td><td>0.02076</td><td>0.1815</td><td>0.06905</td><td>0.2773</td><td>0.9768</td><td>1.909</td><td>15.7</td><td>0.009606</td><td>0.01432</td><td>0.01985</td><td>0.01421</td><td>0.02027</td><td>0.002968</td><td>10.23</td><td>15.66</td><td>65.13</td><td>314.9</td><td>0.1324</td><td>0.1148</td><td>0.08867</td><td>0.06227</td><td>0.245</td><td>0.07773</td><td>0</td></tr><tr><th>23</th><td>15.34</td><td>14.26</td><td>102.5</td><td>704.4</td><td>0.1073</td><td>0.2135</td><td>0.2077</td><td>0.09756</td><td>0.2521</td><td>0.07032</td><td>0.4388</td><td>0.7096</td><td>3.384</td><td>44.91</td><td>0.006789</td><td>0.05328</td><td>0.06446</td><td>0.02252</td><td>0.03672</td><td>0.004394</td><td>18.07</td><td>19.08</td><td>125.1</td><td>980.9</td><td>0.139</td><td>0.5954</td><td>0.6305</td><td>0.2393</td><td>0.4667</td><td>0.09946</td><td>1</td></tr><tr><th>24</th><td>21.16</td><td>23.04</td><td>137.2</td><td>1404.0</td><td>0.09428</td><td>0.1022</td><td>0.1097</td><td>0.08632</td><td>0.1769</td><td>0.05278</td><td>0.6917</td><td>1.127</td><td>4.303</td><td>93.99</td><td>0.004728</td><td>0.01259</td><td>0.01715</td><td>0.01038</td><td>0.01083</td><td>0.001987</td><td>29.17</td><td>35.59</td><td>188.0</td><td>2615.0</td><td>0.1401</td><td>0.26</td><td>0.3155</td><td>0.2009</td><td>0.2822</td><td>0.07526</td><td>1</td></tr><tr><th>25</th><td>16.65</td><td>21.38</td><td>110.0</td><td>904.6</td><td>0.1121</td><td>0.1457</td><td>0.1525</td><td>0.0917</td><td>0.1995</td><td>0.0633</td><td>0.8068</td><td>0.9017</td><td>5.455</td><td>102.6</td><td>0.006048</td><td>0.01882</td><td>0.02741</td><td>0.0113</td><td>0.01468</td><td>0.002801</td><td>26.46</td><td>31.56</td><td>177.0</td><td>2215.0</td><td>0.1805</td><td>0.3578</td><td>0.4695</td><td>0.2095</td><td>0.3613</td><td>0.09564</td><td>1</td></tr><tr><th>26</th><td>17.14</td><td>16.4</td><td>116.0</td><td>912.7</td><td>0.1186</td><td>0.2276</td><td>0.2229</td><td>0.1401</td><td>0.304</td><td>0.07413</td><td>1.046</td><td>0.976</td><td>7.276</td><td>111.4</td><td>0.008029</td><td>0.03799</td><td>0.03732</td><td>0.02397</td><td>0.02308</td><td>0.007444</td><td>22.25</td><td>21.4</td><td>152.4</td><td>1461.0</td><td>0.1545</td><td>0.3949</td><td>0.3853</td><td>0.255</td><td>0.4066</td><td>0.1059</td><td>1</td></tr><tr><th>27</th><td>14.58</td><td>21.53</td><td>97.41</td><td>644.8</td><td>0.1054</td><td>0.1868</td><td>0.1425</td><td>0.08783</td><td>0.2252</td><td>0.06924</td><td>0.2545</td><td>0.9832</td><td>2.11</td><td>21.05</td><td>0.004452</td><td>0.03055</td><td>0.02681</td><td>0.01352</td><td>0.01454</td><td>0.003711</td><td>17.62</td><td>33.21</td><td>122.4</td><td>896.9</td><td>0.1525</td><td>0.6643</td><td>0.5539</td><td>0.2701</td><td>0.4264</td><td>0.1275</td><td>1</td></tr><tr><th>28</th><td>18.61</td><td>20.25</td><td>122.1</td><td>1094.0</td><td>0.0944</td><td>0.1066</td><td>0.149</td><td>0.07731</td><td>0.1697</td><td>0.05699</td><td>0.8529</td><td>1.849</td><td>5.632</td><td>93.54</td><td>0.01075</td><td>0.02722</td><td>0.05081</td><td>0.01911</td><td>0.02293</td><td>0.004217</td><td>21.31</td><td>27.26</td><td>139.9</td><td>1403.0</td><td>0.1338</td><td>0.2117</td><td>0.3446</td><td>0.149</td><td>0.2341</td><td>0.07421</td><td>1</td></tr><tr><th>29</th><td>15.3</td><td>25.27</td><td>102.4</td><td>732.4</td><td>0.1082</td><td>0.1697</td><td>0.1683</td><td>0.08751</td><td>0.1926</td><td>0.0654</td><td>0.439</td><td>1.012</td><td>3.498</td><td>43.5</td><td>0.005233</td><td>0.03057</td><td>0.03576</td><td>0.01083</td><td>0.01768</td><td>0.002967</td><td>20.27</td><td>36.71</td><td>149.3</td><td>1269.0</td><td>0.1641</td><td>0.611</td><td>0.6335</td><td>0.2024</td><td>0.4027</td><td>0.09876</td><td>1</td></tr><tr><th>30</th><td>17.57</td><td>15.05</td><td>115.0</td><td>955.1</td><td>0.09847</td><td>0.1157</td><td>0.09875</td><td>0.07953</td><td>0.1739</td><td>0.06149</td><td>0.6003</td><td>0.8225</td><td>4.655</td><td>61.1</td><td>0.005627</td><td>0.03033</td><td>0.03407</td><td>0.01354</td><td>0.01925</td><td>0.003742</td><td>20.01</td><td>19.52</td><td>134.9</td><td>1227.0</td><td>0.1255</td><td>0.2812</td><td>0.2489</td><td>0.1456</td><td>0.2756</td><td>0.07919</td><td>1</td></tr><tr><th>&vellip;</th><td>&vellip;</td><td>&vellip;</td><td>&vellip;</td><td>&vellip;</td><td>&vellip;</td><td>&vellip;</td><td>&vellip;</td><td>&vellip;</td><td>&vellip;</td><td>&vellip;</td><td>&vellip;</td><td>&vellip;</td><td>&vellip;</td><td>&vellip;</td><td>&vellip;</td><td>&vellip;</td><td>&vellip;</td><td>&vellip;</td><td>&vellip;</td><td>&vellip;</td><td>&vellip;</td><td>&vellip;</td><td>&vellip;</td><td>&vellip;</td><td>&vellip;</td><td>&vellip;</td><td>&vellip;</td><td>&vellip;</td><td>&vellip;</td><td>&vellip;</td><td>&vellip;</td></tr></tbody></table>"
      ],
      "text/latex": [
       "\\begin{tabular}{r|ccccccccccccccccccccccccccccccc}\n",
       "\t& radius\\_mean & texture\\_mean & perimeter\\_mean & area\\_mean & smoothness\\_mean & compactness\\_mean & concavity\\_mean & concave points\\_mean & symmetry\\_mean & fractal\\_dimension\\_mean & radius\\_se & texture\\_se & perimeter\\_se & area\\_se & smoothness\\_se & compactness\\_se & concavity\\_se & concave points\\_se & symmetry\\_se & fractal\\_dimension\\_se & radius\\_worst & texture\\_worst & perimeter\\_worst & area\\_worst & smoothness\\_worst & compactness\\_worst & concavity\\_worst & concave points\\_worst & symmetry\\_worst & fractal\\_dimension\\_worst & M\\\\\n",
       "\t\\hline\n",
       "\t& Float64 & Float64 & Float64 & Float64 & Float64 & Float64 & Float64 & Float64 & Float64 & Float64 & Float64 & Float64 & Float64 & Float64 & Float64 & Float64 & Float64 & Float64 & Float64 & Float64 & Float64 & Float64 & Float64 & Float64 & Float64 & Float64 & Float64 & Float64 & Float64 & Float64 & Bool\\\\\n",
       "\t\\hline\n",
       "\t1 & 17.99 & 10.38 & 122.8 & 1001.0 & 0.1184 & 0.2776 & 0.3001 & 0.1471 & 0.2419 & 0.07871 & 1.095 & 0.9053 & 8.589 & 153.4 & 0.006399 & 0.04904 & 0.05373 & 0.01587 & 0.03003 & 0.006193 & 25.38 & 17.33 & 184.6 & 2019.0 & 0.1622 & 0.6656 & 0.7119 & 0.2654 & 0.4601 & 0.1189 & 1 \\\\\n",
       "\t2 & 20.57 & 17.77 & 132.9 & 1326.0 & 0.08474 & 0.07864 & 0.0869 & 0.07017 & 0.1812 & 0.05667 & 0.5435 & 0.7339 & 3.398 & 74.08 & 0.005225 & 0.01308 & 0.0186 & 0.0134 & 0.01389 & 0.003532 & 24.99 & 23.41 & 158.8 & 1956.0 & 0.1238 & 0.1866 & 0.2416 & 0.186 & 0.275 & 0.08902 & 1 \\\\\n",
       "\t3 & 19.69 & 21.25 & 130.0 & 1203.0 & 0.1096 & 0.1599 & 0.1974 & 0.1279 & 0.2069 & 0.05999 & 0.7456 & 0.7869 & 4.585 & 94.03 & 0.00615 & 0.04006 & 0.03832 & 0.02058 & 0.0225 & 0.004571 & 23.57 & 25.53 & 152.5 & 1709.0 & 0.1444 & 0.4245 & 0.4504 & 0.243 & 0.3613 & 0.08758 & 1 \\\\\n",
       "\t4 & 11.42 & 20.38 & 77.58 & 386.1 & 0.1425 & 0.2839 & 0.2414 & 0.1052 & 0.2597 & 0.09744 & 0.4956 & 1.156 & 3.445 & 27.23 & 0.00911 & 0.07458 & 0.05661 & 0.01867 & 0.05963 & 0.009208 & 14.91 & 26.5 & 98.87 & 567.7 & 0.2098 & 0.8663 & 0.6869 & 0.2575 & 0.6638 & 0.173 & 1 \\\\\n",
       "\t5 & 20.29 & 14.34 & 135.1 & 1297.0 & 0.1003 & 0.1328 & 0.198 & 0.1043 & 0.1809 & 0.05883 & 0.7572 & 0.7813 & 5.438 & 94.44 & 0.01149 & 0.02461 & 0.05688 & 0.01885 & 0.01756 & 0.005115 & 22.54 & 16.67 & 152.2 & 1575.0 & 0.1374 & 0.205 & 0.4 & 0.1625 & 0.2364 & 0.07678 & 1 \\\\\n",
       "\t6 & 12.45 & 15.7 & 82.57 & 477.1 & 0.1278 & 0.17 & 0.1578 & 0.08089 & 0.2087 & 0.07613 & 0.3345 & 0.8902 & 2.217 & 27.19 & 0.00751 & 0.03345 & 0.03672 & 0.01137 & 0.02165 & 0.005082 & 15.47 & 23.75 & 103.4 & 741.6 & 0.1791 & 0.5249 & 0.5355 & 0.1741 & 0.3985 & 0.1244 & 1 \\\\\n",
       "\t7 & 18.25 & 19.98 & 119.6 & 1040.0 & 0.09463 & 0.109 & 0.1127 & 0.074 & 0.1794 & 0.05742 & 0.4467 & 0.7732 & 3.18 & 53.91 & 0.004314 & 0.01382 & 0.02254 & 0.01039 & 0.01369 & 0.002179 & 22.88 & 27.66 & 153.2 & 1606.0 & 0.1442 & 0.2576 & 0.3784 & 0.1932 & 0.3063 & 0.08368 & 1 \\\\\n",
       "\t8 & 13.71 & 20.83 & 90.2 & 577.9 & 0.1189 & 0.1645 & 0.09366 & 0.05985 & 0.2196 & 0.07451 & 0.5835 & 1.377 & 3.856 & 50.96 & 0.008805 & 0.03029 & 0.02488 & 0.01448 & 0.01486 & 0.005412 & 17.06 & 28.14 & 110.6 & 897.0 & 0.1654 & 0.3682 & 0.2678 & 0.1556 & 0.3196 & 0.1151 & 1 \\\\\n",
       "\t9 & 13.0 & 21.82 & 87.5 & 519.8 & 0.1273 & 0.1932 & 0.1859 & 0.09353 & 0.235 & 0.07389 & 0.3063 & 1.002 & 2.406 & 24.32 & 0.005731 & 0.03502 & 0.03553 & 0.01226 & 0.02143 & 0.003749 & 15.49 & 30.73 & 106.2 & 739.3 & 0.1703 & 0.5401 & 0.539 & 0.206 & 0.4378 & 0.1072 & 1 \\\\\n",
       "\t10 & 12.46 & 24.04 & 83.97 & 475.9 & 0.1186 & 0.2396 & 0.2273 & 0.08543 & 0.203 & 0.08243 & 0.2976 & 1.599 & 2.039 & 23.94 & 0.007149 & 0.07217 & 0.07743 & 0.01432 & 0.01789 & 0.01008 & 15.09 & 40.68 & 97.65 & 711.4 & 0.1853 & 1.058 & 1.105 & 0.221 & 0.4366 & 0.2075 & 1 \\\\\n",
       "\t11 & 16.02 & 23.24 & 102.7 & 797.8 & 0.08206 & 0.06669 & 0.03299 & 0.03323 & 0.1528 & 0.05697 & 0.3795 & 1.187 & 2.466 & 40.51 & 0.004029 & 0.009269 & 0.01101 & 0.007591 & 0.0146 & 0.003042 & 19.19 & 33.88 & 123.8 & 1150.0 & 0.1181 & 0.1551 & 0.1459 & 0.09975 & 0.2948 & 0.08452 & 1 \\\\\n",
       "\t12 & 15.78 & 17.89 & 103.6 & 781.0 & 0.0971 & 0.1292 & 0.09954 & 0.06606 & 0.1842 & 0.06082 & 0.5058 & 0.9849 & 3.564 & 54.16 & 0.005771 & 0.04061 & 0.02791 & 0.01282 & 0.02008 & 0.004144 & 20.42 & 27.28 & 136.5 & 1299.0 & 0.1396 & 0.5609 & 0.3965 & 0.181 & 0.3792 & 0.1048 & 1 \\\\\n",
       "\t13 & 19.17 & 24.8 & 132.4 & 1123.0 & 0.0974 & 0.2458 & 0.2065 & 0.1118 & 0.2397 & 0.078 & 0.9555 & 3.568 & 11.07 & 116.2 & 0.003139 & 0.08297 & 0.0889 & 0.0409 & 0.04484 & 0.01284 & 20.96 & 29.94 & 151.7 & 1332.0 & 0.1037 & 0.3903 & 0.3639 & 0.1767 & 0.3176 & 0.1023 & 1 \\\\\n",
       "\t14 & 15.85 & 23.95 & 103.7 & 782.7 & 0.08401 & 0.1002 & 0.09938 & 0.05364 & 0.1847 & 0.05338 & 0.4033 & 1.078 & 2.903 & 36.58 & 0.009769 & 0.03126 & 0.05051 & 0.01992 & 0.02981 & 0.003002 & 16.84 & 27.66 & 112.0 & 876.5 & 0.1131 & 0.1924 & 0.2322 & 0.1119 & 0.2809 & 0.06287 & 1 \\\\\n",
       "\t15 & 13.73 & 22.61 & 93.6 & 578.3 & 0.1131 & 0.2293 & 0.2128 & 0.08025 & 0.2069 & 0.07682 & 0.2121 & 1.169 & 2.061 & 19.21 & 0.006429 & 0.05936 & 0.05501 & 0.01628 & 0.01961 & 0.008093 & 15.03 & 32.01 & 108.8 & 697.7 & 0.1651 & 0.7725 & 0.6943 & 0.2208 & 0.3596 & 0.1431 & 1 \\\\\n",
       "\t16 & 14.54 & 27.54 & 96.73 & 658.8 & 0.1139 & 0.1595 & 0.1639 & 0.07364 & 0.2303 & 0.07077 & 0.37 & 1.033 & 2.879 & 32.55 & 0.005607 & 0.0424 & 0.04741 & 0.0109 & 0.01857 & 0.005466 & 17.46 & 37.13 & 124.1 & 943.2 & 0.1678 & 0.6577 & 0.7026 & 0.1712 & 0.4218 & 0.1341 & 1 \\\\\n",
       "\t17 & 14.68 & 20.13 & 94.74 & 684.5 & 0.09867 & 0.072 & 0.07395 & 0.05259 & 0.1586 & 0.05922 & 0.4727 & 1.24 & 3.195 & 45.4 & 0.005718 & 0.01162 & 0.01998 & 0.01109 & 0.0141 & 0.002085 & 19.07 & 30.88 & 123.4 & 1138.0 & 0.1464 & 0.1871 & 0.2914 & 0.1609 & 0.3029 & 0.08216 & 1 \\\\\n",
       "\t18 & 16.13 & 20.68 & 108.1 & 798.8 & 0.117 & 0.2022 & 0.1722 & 0.1028 & 0.2164 & 0.07356 & 0.5692 & 1.073 & 3.854 & 54.18 & 0.007026 & 0.02501 & 0.03188 & 0.01297 & 0.01689 & 0.004142 & 20.96 & 31.48 & 136.8 & 1315.0 & 0.1789 & 0.4233 & 0.4784 & 0.2073 & 0.3706 & 0.1142 & 1 \\\\\n",
       "\t19 & 19.81 & 22.15 & 130.0 & 1260.0 & 0.09831 & 0.1027 & 0.1479 & 0.09498 & 0.1582 & 0.05395 & 0.7582 & 1.017 & 5.865 & 112.4 & 0.006494 & 0.01893 & 0.03391 & 0.01521 & 0.01356 & 0.001997 & 27.32 & 30.88 & 186.8 & 2398.0 & 0.1512 & 0.315 & 0.5372 & 0.2388 & 0.2768 & 0.07615 & 1 \\\\\n",
       "\t20 & 13.54 & 14.36 & 87.46 & 566.3 & 0.09779 & 0.08129 & 0.06664 & 0.04781 & 0.1885 & 0.05766 & 0.2699 & 0.7886 & 2.058 & 23.56 & 0.008462 & 0.0146 & 0.02387 & 0.01315 & 0.0198 & 0.0023 & 15.11 & 19.26 & 99.7 & 711.2 & 0.144 & 0.1773 & 0.239 & 0.1288 & 0.2977 & 0.07259 & 0 \\\\\n",
       "\t21 & 13.08 & 15.71 & 85.63 & 520.0 & 0.1075 & 0.127 & 0.04568 & 0.0311 & 0.1967 & 0.06811 & 0.1852 & 0.7477 & 1.383 & 14.67 & 0.004097 & 0.01898 & 0.01698 & 0.00649 & 0.01678 & 0.002425 & 14.5 & 20.49 & 96.09 & 630.5 & 0.1312 & 0.2776 & 0.189 & 0.07283 & 0.3184 & 0.08183 & 0 \\\\\n",
       "\t22 & 9.504 & 12.44 & 60.34 & 273.9 & 0.1024 & 0.06492 & 0.02956 & 0.02076 & 0.1815 & 0.06905 & 0.2773 & 0.9768 & 1.909 & 15.7 & 0.009606 & 0.01432 & 0.01985 & 0.01421 & 0.02027 & 0.002968 & 10.23 & 15.66 & 65.13 & 314.9 & 0.1324 & 0.1148 & 0.08867 & 0.06227 & 0.245 & 0.07773 & 0 \\\\\n",
       "\t23 & 15.34 & 14.26 & 102.5 & 704.4 & 0.1073 & 0.2135 & 0.2077 & 0.09756 & 0.2521 & 0.07032 & 0.4388 & 0.7096 & 3.384 & 44.91 & 0.006789 & 0.05328 & 0.06446 & 0.02252 & 0.03672 & 0.004394 & 18.07 & 19.08 & 125.1 & 980.9 & 0.139 & 0.5954 & 0.6305 & 0.2393 & 0.4667 & 0.09946 & 1 \\\\\n",
       "\t24 & 21.16 & 23.04 & 137.2 & 1404.0 & 0.09428 & 0.1022 & 0.1097 & 0.08632 & 0.1769 & 0.05278 & 0.6917 & 1.127 & 4.303 & 93.99 & 0.004728 & 0.01259 & 0.01715 & 0.01038 & 0.01083 & 0.001987 & 29.17 & 35.59 & 188.0 & 2615.0 & 0.1401 & 0.26 & 0.3155 & 0.2009 & 0.2822 & 0.07526 & 1 \\\\\n",
       "\t25 & 16.65 & 21.38 & 110.0 & 904.6 & 0.1121 & 0.1457 & 0.1525 & 0.0917 & 0.1995 & 0.0633 & 0.8068 & 0.9017 & 5.455 & 102.6 & 0.006048 & 0.01882 & 0.02741 & 0.0113 & 0.01468 & 0.002801 & 26.46 & 31.56 & 177.0 & 2215.0 & 0.1805 & 0.3578 & 0.4695 & 0.2095 & 0.3613 & 0.09564 & 1 \\\\\n",
       "\t26 & 17.14 & 16.4 & 116.0 & 912.7 & 0.1186 & 0.2276 & 0.2229 & 0.1401 & 0.304 & 0.07413 & 1.046 & 0.976 & 7.276 & 111.4 & 0.008029 & 0.03799 & 0.03732 & 0.02397 & 0.02308 & 0.007444 & 22.25 & 21.4 & 152.4 & 1461.0 & 0.1545 & 0.3949 & 0.3853 & 0.255 & 0.4066 & 0.1059 & 1 \\\\\n",
       "\t27 & 14.58 & 21.53 & 97.41 & 644.8 & 0.1054 & 0.1868 & 0.1425 & 0.08783 & 0.2252 & 0.06924 & 0.2545 & 0.9832 & 2.11 & 21.05 & 0.004452 & 0.03055 & 0.02681 & 0.01352 & 0.01454 & 0.003711 & 17.62 & 33.21 & 122.4 & 896.9 & 0.1525 & 0.6643 & 0.5539 & 0.2701 & 0.4264 & 0.1275 & 1 \\\\\n",
       "\t28 & 18.61 & 20.25 & 122.1 & 1094.0 & 0.0944 & 0.1066 & 0.149 & 0.07731 & 0.1697 & 0.05699 & 0.8529 & 1.849 & 5.632 & 93.54 & 0.01075 & 0.02722 & 0.05081 & 0.01911 & 0.02293 & 0.004217 & 21.31 & 27.26 & 139.9 & 1403.0 & 0.1338 & 0.2117 & 0.3446 & 0.149 & 0.2341 & 0.07421 & 1 \\\\\n",
       "\t29 & 15.3 & 25.27 & 102.4 & 732.4 & 0.1082 & 0.1697 & 0.1683 & 0.08751 & 0.1926 & 0.0654 & 0.439 & 1.012 & 3.498 & 43.5 & 0.005233 & 0.03057 & 0.03576 & 0.01083 & 0.01768 & 0.002967 & 20.27 & 36.71 & 149.3 & 1269.0 & 0.1641 & 0.611 & 0.6335 & 0.2024 & 0.4027 & 0.09876 & 1 \\\\\n",
       "\t30 & 17.57 & 15.05 & 115.0 & 955.1 & 0.09847 & 0.1157 & 0.09875 & 0.07953 & 0.1739 & 0.06149 & 0.6003 & 0.8225 & 4.655 & 61.1 & 0.005627 & 0.03033 & 0.03407 & 0.01354 & 0.01925 & 0.003742 & 20.01 & 19.52 & 134.9 & 1227.0 & 0.1255 & 0.2812 & 0.2489 & 0.1456 & 0.2756 & 0.07919 & 1 \\\\\n",
       "\t$\\dots$ & $\\dots$ & $\\dots$ & $\\dots$ & $\\dots$ & $\\dots$ & $\\dots$ & $\\dots$ & $\\dots$ & $\\dots$ & $\\dots$ & $\\dots$ & $\\dots$ & $\\dots$ & $\\dots$ & $\\dots$ & $\\dots$ & $\\dots$ & $\\dots$ & $\\dots$ & $\\dots$ & $\\dots$ & $\\dots$ & $\\dots$ & $\\dots$ & $\\dots$ & $\\dots$ & $\\dots$ & $\\dots$ & $\\dots$ & $\\dots$ & $\\dots$ \\\\\n",
       "\\end{tabular}\n"
      ],
      "text/plain": [
       "569×31 typename(DataFrame)\n",
       "│ Row │ radius_mean │ texture_mean │ perimeter_mean │ area_mean │ smoothness_mean │ compactness_mean │ concavity_mean │ concave points_mean │ symmetry_mean │ fractal_dimension_mean │ radius_se │ texture_se │ perimeter_se │ area_se │ smoothness_se │ compactness_se │ concavity_se │ concave points_se │ symmetry_se │ fractal_dimension_se │ radius_worst │ texture_worst │ perimeter_worst │ area_worst │ smoothness_worst │ compactness_worst │ concavity_worst │ concave points_worst │ symmetry_worst │ fractal_dimension_worst │ M    │\n",
       "│     │ \u001b[90mFloat64\u001b[39m     │ \u001b[90mFloat64\u001b[39m      │ \u001b[90mFloat64\u001b[39m        │ \u001b[90mFloat64\u001b[39m   │ \u001b[90mFloat64\u001b[39m         │ \u001b[90mFloat64\u001b[39m          │ \u001b[90mFloat64\u001b[39m        │ \u001b[90mFloat64\u001b[39m             │ \u001b[90mFloat64\u001b[39m       │ \u001b[90mFloat64\u001b[39m                │ \u001b[90mFloat64\u001b[39m   │ \u001b[90mFloat64\u001b[39m    │ \u001b[90mFloat64\u001b[39m      │ \u001b[90mFloat64\u001b[39m │ \u001b[90mFloat64\u001b[39m       │ \u001b[90mFloat64\u001b[39m        │ \u001b[90mFloat64\u001b[39m      │ \u001b[90mFloat64\u001b[39m           │ \u001b[90mFloat64\u001b[39m     │ \u001b[90mFloat64\u001b[39m              │ \u001b[90mFloat64\u001b[39m      │ \u001b[90mFloat64\u001b[39m       │ \u001b[90mFloat64\u001b[39m         │ \u001b[90mFloat64\u001b[39m    │ \u001b[90mFloat64\u001b[39m          │ \u001b[90mFloat64\u001b[39m           │ \u001b[90mFloat64\u001b[39m         │ \u001b[90mFloat64\u001b[39m              │ \u001b[90mFloat64\u001b[39m        │ \u001b[90mFloat64\u001b[39m                 │ \u001b[90mBool\u001b[39m │\n",
       "├─────┼─────────────┼──────────────┼────────────────┼───────────┼─────────────────┼──────────────────┼────────────────┼─────────────────────┼───────────────┼────────────────────────┼───────────┼────────────┼──────────────┼─────────┼───────────────┼────────────────┼──────────────┼───────────────────┼─────────────┼──────────────────────┼──────────────┼───────────────┼─────────────────┼────────────┼──────────────────┼───────────────────┼─────────────────┼──────────────────────┼────────────────┼─────────────────────────┼──────┤\n",
       "│ 1   │ 17.99       │ 10.38        │ 122.8          │ 1001.0    │ 0.1184          │ 0.2776           │ 0.3001         │ 0.1471              │ 0.2419        │ 0.07871                │ 1.095     │ 0.9053     │ 8.589        │ 153.4   │ 0.006399      │ 0.04904        │ 0.05373      │ 0.01587           │ 0.03003     │ 0.006193             │ 25.38        │ 17.33         │ 184.6           │ 2019.0     │ 0.1622           │ 0.6656            │ 0.7119          │ 0.2654               │ 0.4601         │ 0.1189                  │ 1    │\n",
       "│ 2   │ 20.57       │ 17.77        │ 132.9          │ 1326.0    │ 0.08474         │ 0.07864          │ 0.0869         │ 0.07017             │ 0.1812        │ 0.05667                │ 0.5435    │ 0.7339     │ 3.398        │ 74.08   │ 0.005225      │ 0.01308        │ 0.0186       │ 0.0134            │ 0.01389     │ 0.003532             │ 24.99        │ 23.41         │ 158.8           │ 1956.0     │ 0.1238           │ 0.1866            │ 0.2416          │ 0.186                │ 0.275          │ 0.08902                 │ 1    │\n",
       "│ 3   │ 19.69       │ 21.25        │ 130.0          │ 1203.0    │ 0.1096          │ 0.1599           │ 0.1974         │ 0.1279              │ 0.2069        │ 0.05999                │ 0.7456    │ 0.7869     │ 4.585        │ 94.03   │ 0.00615       │ 0.04006        │ 0.03832      │ 0.02058           │ 0.0225      │ 0.004571             │ 23.57        │ 25.53         │ 152.5           │ 1709.0     │ 0.1444           │ 0.4245            │ 0.4504          │ 0.243                │ 0.3613         │ 0.08758                 │ 1    │\n",
       "│ 4   │ 11.42       │ 20.38        │ 77.58          │ 386.1     │ 0.1425          │ 0.2839           │ 0.2414         │ 0.1052              │ 0.2597        │ 0.09744                │ 0.4956    │ 1.156      │ 3.445        │ 27.23   │ 0.00911       │ 0.07458        │ 0.05661      │ 0.01867           │ 0.05963     │ 0.009208             │ 14.91        │ 26.5          │ 98.87           │ 567.7      │ 0.2098           │ 0.8663            │ 0.6869          │ 0.2575               │ 0.6638         │ 0.173                   │ 1    │\n",
       "│ 5   │ 20.29       │ 14.34        │ 135.1          │ 1297.0    │ 0.1003          │ 0.1328           │ 0.198          │ 0.1043              │ 0.1809        │ 0.05883                │ 0.7572    │ 0.7813     │ 5.438        │ 94.44   │ 0.01149       │ 0.02461        │ 0.05688      │ 0.01885           │ 0.01756     │ 0.005115             │ 22.54        │ 16.67         │ 152.2           │ 1575.0     │ 0.1374           │ 0.205             │ 0.4             │ 0.1625               │ 0.2364         │ 0.07678                 │ 1    │\n",
       "│ 6   │ 12.45       │ 15.7         │ 82.57          │ 477.1     │ 0.1278          │ 0.17             │ 0.1578         │ 0.08089             │ 0.2087        │ 0.07613                │ 0.3345    │ 0.8902     │ 2.217        │ 27.19   │ 0.00751       │ 0.03345        │ 0.03672      │ 0.01137           │ 0.02165     │ 0.005082             │ 15.47        │ 23.75         │ 103.4           │ 741.6      │ 0.1791           │ 0.5249            │ 0.5355          │ 0.1741               │ 0.3985         │ 0.1244                  │ 1    │\n",
       "│ 7   │ 18.25       │ 19.98        │ 119.6          │ 1040.0    │ 0.09463         │ 0.109            │ 0.1127         │ 0.074               │ 0.1794        │ 0.05742                │ 0.4467    │ 0.7732     │ 3.18         │ 53.91   │ 0.004314      │ 0.01382        │ 0.02254      │ 0.01039           │ 0.01369     │ 0.002179             │ 22.88        │ 27.66         │ 153.2           │ 1606.0     │ 0.1442           │ 0.2576            │ 0.3784          │ 0.1932               │ 0.3063         │ 0.08368                 │ 1    │\n",
       "│ 8   │ 13.71       │ 20.83        │ 90.2           │ 577.9     │ 0.1189          │ 0.1645           │ 0.09366        │ 0.05985             │ 0.2196        │ 0.07451                │ 0.5835    │ 1.377      │ 3.856        │ 50.96   │ 0.008805      │ 0.03029        │ 0.02488      │ 0.01448           │ 0.01486     │ 0.005412             │ 17.06        │ 28.14         │ 110.6           │ 897.0      │ 0.1654           │ 0.3682            │ 0.2678          │ 0.1556               │ 0.3196         │ 0.1151                  │ 1    │\n",
       "│ 9   │ 13.0        │ 21.82        │ 87.5           │ 519.8     │ 0.1273          │ 0.1932           │ 0.1859         │ 0.09353             │ 0.235         │ 0.07389                │ 0.3063    │ 1.002      │ 2.406        │ 24.32   │ 0.005731      │ 0.03502        │ 0.03553      │ 0.01226           │ 0.02143     │ 0.003749             │ 15.49        │ 30.73         │ 106.2           │ 739.3      │ 0.1703           │ 0.5401            │ 0.539           │ 0.206                │ 0.4378         │ 0.1072                  │ 1    │\n",
       "│ 10  │ 12.46       │ 24.04        │ 83.97          │ 475.9     │ 0.1186          │ 0.2396           │ 0.2273         │ 0.08543             │ 0.203         │ 0.08243                │ 0.2976    │ 1.599      │ 2.039        │ 23.94   │ 0.007149      │ 0.07217        │ 0.07743      │ 0.01432           │ 0.01789     │ 0.01008              │ 15.09        │ 40.68         │ 97.65           │ 711.4      │ 0.1853           │ 1.058             │ 1.105           │ 0.221                │ 0.4366         │ 0.2075                  │ 1    │\n",
       "⋮\n",
       "│ 559 │ 14.59       │ 22.68        │ 96.39          │ 657.1     │ 0.08473         │ 0.133            │ 0.1029         │ 0.03736             │ 0.1454        │ 0.06147                │ 0.2254    │ 1.108      │ 2.224        │ 19.54   │ 0.004242      │ 0.04639        │ 0.06578      │ 0.01606           │ 0.01638     │ 0.004406             │ 15.48        │ 27.27         │ 105.9           │ 733.5      │ 0.1026           │ 0.3171            │ 0.3662          │ 0.1105               │ 0.2258         │ 0.08004                 │ 0    │\n",
       "│ 560 │ 11.51       │ 23.93        │ 74.52          │ 403.5     │ 0.09261         │ 0.1021           │ 0.1112         │ 0.04105             │ 0.1388        │ 0.0657                 │ 0.2388    │ 2.904      │ 1.936        │ 16.97   │ 0.0082        │ 0.02982        │ 0.05738      │ 0.01267           │ 0.01488     │ 0.004738             │ 12.48        │ 37.16         │ 82.28           │ 474.2      │ 0.1298           │ 0.2517            │ 0.363           │ 0.09653              │ 0.2112         │ 0.08732                 │ 0    │\n",
       "│ 561 │ 14.05       │ 27.15        │ 91.38          │ 600.4     │ 0.09929         │ 0.1126           │ 0.04462        │ 0.04304             │ 0.1537        │ 0.06171                │ 0.3645    │ 1.492      │ 2.888        │ 29.84   │ 0.007256      │ 0.02678        │ 0.02071      │ 0.01626           │ 0.0208      │ 0.005304             │ 15.3         │ 33.17         │ 100.2           │ 706.7      │ 0.1241           │ 0.2264            │ 0.1326          │ 0.1048               │ 0.225          │ 0.08321                 │ 0    │\n",
       "│ 562 │ 11.2        │ 29.37        │ 70.67          │ 386.0     │ 0.07449         │ 0.03558          │ 0.0            │ 0.0                 │ 0.106         │ 0.05502                │ 0.3141    │ 3.896      │ 2.041        │ 22.81   │ 0.007594      │ 0.008878       │ 0.0          │ 0.0               │ 0.01989     │ 0.001773             │ 11.92        │ 38.3          │ 75.19           │ 439.6      │ 0.09267          │ 0.05494           │ 0.0             │ 0.0                  │ 0.1566         │ 0.05905                 │ 0    │\n",
       "│ 563 │ 15.22       │ 30.62        │ 103.4          │ 716.9     │ 0.1048          │ 0.2087           │ 0.255          │ 0.09429             │ 0.2128        │ 0.07152                │ 0.2602    │ 1.205      │ 2.362        │ 22.65   │ 0.004625      │ 0.04844        │ 0.07359      │ 0.01608           │ 0.02137     │ 0.006142             │ 17.52        │ 42.79         │ 128.7           │ 915.0      │ 0.1417           │ 0.7917            │ 1.17            │ 0.2356               │ 0.4089         │ 0.1409                  │ 1    │\n",
       "│ 564 │ 20.92       │ 25.09        │ 143.0          │ 1347.0    │ 0.1099          │ 0.2236           │ 0.3174         │ 0.1474              │ 0.2149        │ 0.06879                │ 0.9622    │ 1.026      │ 8.758        │ 118.8   │ 0.006399      │ 0.0431         │ 0.07845      │ 0.02624           │ 0.02057     │ 0.006213             │ 24.29        │ 29.41         │ 179.1           │ 1819.0     │ 0.1407           │ 0.4186            │ 0.6599          │ 0.2542               │ 0.2929         │ 0.09873                 │ 1    │\n",
       "│ 565 │ 21.56       │ 22.39        │ 142.0          │ 1479.0    │ 0.111           │ 0.1159           │ 0.2439         │ 0.1389              │ 0.1726        │ 0.05623                │ 1.176     │ 1.256      │ 7.673        │ 158.7   │ 0.0103        │ 0.02891        │ 0.05198      │ 0.02454           │ 0.01114     │ 0.004239             │ 25.45        │ 26.4          │ 166.1           │ 2027.0     │ 0.141            │ 0.2113            │ 0.4107          │ 0.2216               │ 0.206          │ 0.07115                 │ 1    │\n",
       "│ 566 │ 20.13       │ 28.25        │ 131.2          │ 1261.0    │ 0.0978          │ 0.1034           │ 0.144          │ 0.09791             │ 0.1752        │ 0.05533                │ 0.7655    │ 2.463      │ 5.203        │ 99.04   │ 0.005769      │ 0.02423        │ 0.0395       │ 0.01678           │ 0.01898     │ 0.002498             │ 23.69        │ 38.25         │ 155.0           │ 1731.0     │ 0.1166           │ 0.1922            │ 0.3215          │ 0.1628               │ 0.2572         │ 0.06637                 │ 1    │\n",
       "│ 567 │ 16.6        │ 28.08        │ 108.3          │ 858.1     │ 0.08455         │ 0.1023           │ 0.09251        │ 0.05302             │ 0.159         │ 0.05648                │ 0.4564    │ 1.075      │ 3.425        │ 48.55   │ 0.005903      │ 0.03731        │ 0.0473       │ 0.01557           │ 0.01318     │ 0.003892             │ 18.98        │ 34.12         │ 126.7           │ 1124.0     │ 0.1139           │ 0.3094            │ 0.3403          │ 0.1418               │ 0.2218         │ 0.0782                  │ 1    │\n",
       "│ 568 │ 20.6        │ 29.33        │ 140.1          │ 1265.0    │ 0.1178          │ 0.277            │ 0.3514         │ 0.152               │ 0.2397        │ 0.07016                │ 0.726     │ 1.595      │ 5.772        │ 86.22   │ 0.006522      │ 0.06158        │ 0.07117      │ 0.01664           │ 0.02324     │ 0.006185             │ 25.74        │ 39.42         │ 184.6           │ 1821.0     │ 0.165            │ 0.8681            │ 0.9387          │ 0.265                │ 0.4087         │ 0.124                   │ 1    │\n",
       "│ 569 │ 7.76        │ 24.54        │ 47.92          │ 181.0     │ 0.05263         │ 0.04362          │ 0.0            │ 0.0                 │ 0.1587        │ 0.05884                │ 0.3857    │ 1.428      │ 2.548        │ 19.15   │ 0.007189      │ 0.00466        │ 0.0          │ 0.0               │ 0.02676     │ 0.002783             │ 9.456        │ 30.37         │ 59.16           │ 268.6      │ 0.08996          │ 0.06444           │ 0.0             │ 0.0                  │ 0.2871         │ 0.07039                 │ 0    │"
      ]
     },
     "execution_count": 6,
     "metadata": {},
     "output_type": "execute_result"
    }
   ],
   "source": [
    "select!(df, Not([:id, :Column33, :diagnosis, :B]))"
   ]
  },
  {
   "cell_type": "code",
   "execution_count": 7,
   "metadata": {},
   "outputs": [],
   "source": [
    "#Fix column names  by replacing \" \",\"-\",\"/\" with \"_\"\n",
    "colnames = Symbol[]\n",
    "for i in string.(names(df))\n",
    "    push!(colnames, Symbol(replace(replace(replace(strip(i), \" \" => \"\"), \"-\" => \"\"), \"/\" => \"_\")))\n",
    "end\n",
    "rename!(df, colnames);"
   ]
  },
  {
   "cell_type": "markdown",
   "metadata": {},
   "source": [
    "# Train Test Spltting"
   ]
  },
  {
   "cell_type": "code",
   "execution_count": 8,
   "metadata": {},
   "outputs": [],
   "source": [
    "using Lathe.preprocess: TrainTestSplit\n",
    "train, test = TrainTestSplit(df, .75);"
   ]
  },
  {
   "cell_type": "code",
   "execution_count": 10,
   "metadata": {},
   "outputs": [
    {
     "data": {
      "text/plain": [
       "31-element Vector{Symbol}:\n",
       " :radius_mean\n",
       " :texture_mean\n",
       " :perimeter_mean\n",
       " :area_mean\n",
       " :smoothness_mean\n",
       " :compactness_mean\n",
       " :concavity_mean\n",
       " :concavepoints_mean\n",
       " :symmetry_mean\n",
       " :fractal_dimension_mean\n",
       " :radius_se\n",
       " :texture_se\n",
       " :perimeter_se\n",
       " ⋮\n",
       " :fractal_dimension_se\n",
       " :radius_worst\n",
       " :texture_worst\n",
       " :perimeter_worst\n",
       " :area_worst\n",
       " :smoothness_worst\n",
       " :compactness_worst\n",
       " :concavity_worst\n",
       " :concavepoints_worst\n",
       " :symmetry_worst\n",
       " :fractal_dimension_worst\n",
       " :M"
      ]
     },
     "execution_count": 10,
     "metadata": {},
     "output_type": "execute_result"
    }
   ],
   "source": [
    "names(df)"
   ]
  },
  {
   "cell_type": "markdown",
   "metadata": {},
   "source": [
    "# Model Building"
   ]
  },
  {
   "cell_type": "code",
   "execution_count": 25,
   "metadata": {},
   "outputs": [
    {
     "data": {
      "text/plain": [
       "StatsModels.TableRegressionModel{GeneralizedLinearModel{GLM.GlmResp{Vector{Float64}, Binomial{Float64}, ProbitLink}, GLM.DensePredChol{Float64, LinearAlgebra.Cholesky{Float64, Matrix{Float64}}}}, Matrix{Float64}}\n",
       "\n",
       "M ~ 1 + radius_mean + texture_mean + perimeter_mean + area_mean + smoothness_mean + compactness_mean + concavity_mean + concavepoints_mean + symmetry_mean + fractal_dimension_mean + radius_se + texture_se + perimeter_se + area_se + smoothness_se + compactness_se + concavity_se + concavepoints_se + symmetry_se + fractal_dimension_se + radius_worst + texture_worst + perimeter_worst + area_worst + smoothness_worst + compactness_worst + concavity_worst + concavepoints_worst + symmetry_worst + fractal_dimension_worst\n",
       "\n",
       "Coefficients:\n",
       "─────────────────────────────────────────────────────────────────────────────────────────────────────────\n",
       "                                  Coef.      Std. Error      z  Pr(>|z|)        Lower 95%       Upper 95%\n",
       "─────────────────────────────────────────────────────────────────────────────────────────────────────────\n",
       "(Intercept)                -284.113           2.47812e5  -0.00    0.9991       -4.85987e5       4.85419e5\n",
       "radius_mean                 -20.6082      59372.8        -0.00    0.9997       -1.16389e5       1.16348e5\n",
       "texture_mean                  0.451127      848.513       0.00    0.9996    -1662.6          1663.51\n",
       "perimeter_mean                2.65589      9036.66        0.00    0.9998   -17708.9         17714.2\n",
       "area_mean                    -0.119326      391.28       -0.00    0.9998     -767.013         766.775\n",
       "smoothness_mean             369.451           1.58748e6   0.00    0.9998       -3.11103e6       3.11177e6\n",
       "compactness_mean           -707.68            3.75954e5  -0.00    0.9985       -7.37563e5  736148.0\n",
       "concavity_mean              648.3             1.06219e6   0.00    0.9995       -2.0812e6        2.08249e6\n",
       "concavepoints_mean           27.2557          1.98696e6   0.00    1.0000       -3.89435e6       3.8944e6\n",
       "symmetry_mean                -6.53728         3.11744e5  -0.00    1.0000       -6.11014e5       6.11001e5\n",
       "fractal_dimension_mean     -206.372           1.98753e6  -0.00    0.9999       -3.8957e6        3.89528e6\n",
       "radius_se                  -117.135           1.10831e5  -0.00    0.9992       -2.17341e5  217107.0\n",
       "texture_se                  -10.1184       4046.99       -0.00    0.9980    -7942.06         7921.83\n",
       "perimeter_se                 12.4165      27497.3         0.00    0.9996   -53881.3         53906.1\n",
       "area_se                       0.0594227    1129.93        0.00    1.0000    -2214.56         2214.67\n",
       "smoothness_se             -1034.24            3.98681e6  -0.00    0.9998       -7.81505e6       7.81298e6\n",
       "compactness_se              528.176           1.60635e6   0.00    0.9997       -3.14786e6       3.14892e6\n",
       "concavity_se                458.648      834112.0         0.00    0.9996       -1.63437e6       1.63529e6\n",
       "concavepoints_se           1476.05            9.34627e5   0.00    0.9987       -1.83036e6       1.83331e6\n",
       "symmetry_se                 -30.6074          6.17862e5  -0.00    1.0000       -1.21102e6       1.21096e6\n",
       "fractal_dimension_se     -11481.0             1.3399e7   -0.00    0.9993       -2.6273e7        2.625e7\n",
       "radius_worst                 28.1939      37635.3         0.00    0.9994   -73735.7         73792.1\n",
       "texture_worst                 1.61834      1024.71        0.00    0.9987    -2006.77         2010.0\n",
       "perimeter_worst              -1.95368      3779.12       -0.00    0.9996    -7408.89         7404.98\n",
       "area_worst                    0.0245492     123.984       0.00    0.9998     -242.98          243.029\n",
       "smoothness_worst            274.933           8.90212e5   0.00    0.9998       -1.74451e6       1.74506e6\n",
       "compactness_worst            45.7089          1.62691e5   0.00    0.9998  -318823.0             3.18914e5\n",
       "concavity_worst            -167.868           1.73104e5  -0.00    0.9992  -339445.0             3.39109e5\n",
       "concavepoints_worst          85.7904          6.00931e5   0.00    0.9999       -1.17772e6       1.17789e6\n",
       "symmetry_worst               58.4304      83618.8         0.00    0.9994       -1.63831e5       1.63948e5\n",
       "fractal_dimension_worst     911.087           8.25017e5   0.00    0.9991       -1.61609e6       1.61791e6\n",
       "─────────────────────────────────────────────────────────────────────────────────────────────────────────"
      ]
     },
     "execution_count": 25,
     "metadata": {},
     "output_type": "execute_result"
    }
   ],
   "source": [
    "fm = @formula(M ~ radius_mean + texture_mean + perimeter_mean + area_mean + smoothness_mean + compactness_mean + concavity_mean + concavepoints_mean + symmetry_mean + fractal_dimension_mean + radius_se + texture_se + perimeter_se + area_se + smoothness_se + compactness_se + concavity_se + concavepoints_se + symmetry_se + fractal_dimension_se + radius_worst + texture_worst + perimeter_worst + area_worst + smoothness_worst + compactness_worst + concavity_worst + concavepoints_worst + symmetry_worst + fractal_dimension_worst)\n",
    "logit = glm(fm, train, Binomial(), ProbitLink())"
   ]
  },
  {
   "cell_type": "markdown",
   "metadata": {},
   "source": [
    "# Model Prediction and Evaluation"
   ]
  },
  {
   "cell_type": "code",
   "execution_count": 12,
   "metadata": {},
   "outputs": [
    {
     "data": {
      "text/plain": [
       "136-element Vector{Union{Missing, Float64}}:\n",
       " 1.0\n",
       " 1.0\n",
       " 1.0\n",
       " 1.0\n",
       " 0.0\n",
       " 1.0\n",
       " 1.0\n",
       " 1.0\n",
       " 1.0\n",
       " 0.0\n",
       " 0.9999999999999966\n",
       " 1.0\n",
       " 1.0\n",
       " ⋮\n",
       " 1.7276371418271715e-241\n",
       " 0.0\n",
       " 1.5915179716999556e-128\n",
       " 1.0\n",
       " 0.0\n",
       " 0.0\n",
       " 1.0\n",
       " 1.7916862838844787e-34\n",
       " 0.0\n",
       " 4.709267927283519e-292\n",
       " 0.0\n",
       " 0.0"
      ]
     },
     "execution_count": 12,
     "metadata": {},
     "output_type": "execute_result"
    }
   ],
   "source": [
    "#predict target varaible on test data\n",
    "prediction = predict(logit, test)"
   ]
  },
  {
   "cell_type": "code",
   "execution_count": 26,
   "metadata": {},
   "outputs": [
    {
     "data": {
      "text/plain": [
       "136-element BitVector:\n",
       " 1\n",
       " 1\n",
       " 1\n",
       " 1\n",
       " 1\n",
       " 1\n",
       " 1\n",
       " 1\n",
       " 1\n",
       " 0\n",
       " 1\n",
       " 1\n",
       " 1\n",
       " ⋮\n",
       " 1\n",
       " 1\n",
       " 1\n",
       " 1\n",
       " 1\n",
       " 1\n",
       " 1\n",
       " 1\n",
       " 1\n",
       " 1\n",
       " 1\n",
       " 1"
      ]
     },
     "execution_count": 26,
     "metadata": {},
     "output_type": "execute_result"
    }
   ],
   "source": [
    "# Convert probability score to class\n",
    "prediction_class = [if x < 0.5 0 else 1 end for x in prediction];\n",
    "    \n",
    "prediction_df = DataFrame(y_actual = test.M, y_predicted = prediction_class, prob_predicted = prediction);\n",
    "prediction_df.correctly_classified = prediction_df.y_actual .== prediction_df.y_predicted"
   ]
  },
  {
   "cell_type": "markdown",
   "metadata": {},
   "source": [
    "# Accuracy"
   ]
  },
  {
   "cell_type": "code",
   "execution_count": 14,
   "metadata": {},
   "outputs": [
    {
     "data": {
      "text/plain": [
       "0.9558823529411765"
      ]
     },
     "execution_count": 14,
     "metadata": {},
     "output_type": "execute_result"
    }
   ],
   "source": [
    "#Accuracy Score\n",
    "accuracy = mean(prediction_df.correctly_classified)"
   ]
  },
  {
   "cell_type": "markdown",
   "metadata": {},
   "source": [
    "# Confusion Matrix"
   ]
  },
  {
   "cell_type": "code",
   "execution_count": 15,
   "metadata": {},
   "outputs": [
    {
     "data": {
      "text/plain": [
       "ROCNums{Int64}\n",
       "  p = 55\n",
       "  n = 81\n",
       "  tp = 51\n",
       "  tn = 79\n",
       "  fp = 2\n",
       "  fn = 4\n"
      ]
     },
     "execution_count": 15,
     "metadata": {},
     "output_type": "execute_result"
    }
   ],
   "source": [
    "confusion_matrix = MLBase.roc(prediction_df.y_actual, prediction_df.y_predicted)"
   ]
  },
  {
   "cell_type": "code",
   "execution_count": null,
   "metadata": {},
   "outputs": [],
   "source": []
  }
 ],
 "metadata": {
  "kernelspec": {
   "display_name": "Julia 1.6.0",
   "language": "julia",
   "name": "julia-1.6"
  },
  "language_info": {
   "file_extension": ".jl",
   "mimetype": "application/julia",
   "name": "julia",
   "version": "1.6.0"
  }
 },
 "nbformat": 4,
 "nbformat_minor": 4
}
